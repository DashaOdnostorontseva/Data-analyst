{
 "cells": [
  {
   "cell_type": "markdown",
   "metadata": {},
   "source": [
    "# Часть 1\n",
    "\n",
    "##### Проведите иерархический кластерный анализ данных с использованием не менее 4-х переменных (кроме name и grade). Приведите подтверждение, что выбранные переменные могут быть использованы для кластеризации."
   ]
  },
  {
   "cell_type": "markdown",
   "metadata": {},
   "source": [
    "## 1. Выберите оптимальный алгоритм кластеризации и обоснуйте свой выбор."
   ]
  },
  {
   "cell_type": "markdown",
   "metadata": {},
   "source": [
    "#### Для решения задачи был выбран алгоритм кластеризации Уорда (Ward’s Method).\n",
    "\n",
    "##### Данный метод минимизирует разброс данных внутри кластеров, что приводит к созданию компактных и однородных групп. Этот метод идеально подходит, когда важно, чтобы точки внутри одного кластера были максимально похожи друг на друга. Он устойчив к выбросам и часто приводит к сбалансированным кластерам."
   ]
  },
  {
   "cell_type": "markdown",
   "metadata": {},
   "source": [
    "## 2. Создайте дендрограмму, опишите её."
   ]
  },
  {
   "cell_type": "markdown",
   "metadata": {},
   "source": [
    "### Код"
   ]
  },
  {
   "cell_type": "code",
   "execution_count": 1,
   "metadata": {},
   "outputs": [],
   "source": [
    "import pandas as pd\n",
    "import seaborn as sns\n",
    "import matplotlib.pyplot as plt\n",
    "from IPython.display import display, HTML, Markdown # Для удобного отображения\n",
    "from itertools import combinations # Для подбора комбинаций\n",
    "\n",
    "from scipy.cluster.hierarchy import dendrogram, linkage, fcluster\n",
    "from sklearn.metrics import calinski_harabasz_score\n"
   ]
  },
  {
   "cell_type": "code",
   "execution_count": 2,
   "metadata": {},
   "outputs": [
    {
     "data": {
      "text/html": [
       "<div>\n",
       "<style scoped>\n",
       "    .dataframe tbody tr th:only-of-type {\n",
       "        vertical-align: middle;\n",
       "    }\n",
       "\n",
       "    .dataframe tbody tr th {\n",
       "        vertical-align: top;\n",
       "    }\n",
       "\n",
       "    .dataframe thead th {\n",
       "        text-align: right;\n",
       "    }\n",
       "</style>\n",
       "<table border=\"1\" class=\"dataframe\">\n",
       "  <thead>\n",
       "    <tr style=\"text-align: right;\">\n",
       "      <th></th>\n",
       "      <th>name</th>\n",
       "      <th>grade</th>\n",
       "      <th>ind1</th>\n",
       "      <th>ind2</th>\n",
       "      <th>ind3</th>\n",
       "      <th>ind4</th>\n",
       "      <th>ind5</th>\n",
       "      <th>ind6</th>\n",
       "      <th>ind7</th>\n",
       "      <th>ind8</th>\n",
       "    </tr>\n",
       "  </thead>\n",
       "  <tbody>\n",
       "    <tr>\n",
       "      <th>0</th>\n",
       "      <td>Министерство внутренних дел Российской Федерац</td>\n",
       "      <td>83.3</td>\n",
       "      <td>70.9</td>\n",
       "      <td>94.5</td>\n",
       "      <td>89.5</td>\n",
       "      <td>81.3</td>\n",
       "      <td>97.2</td>\n",
       "      <td>71.0</td>\n",
       "      <td>40.4</td>\n",
       "      <td>100.0</td>\n",
       "    </tr>\n",
       "    <tr>\n",
       "      <th>1</th>\n",
       "      <td>Федеральная миграционная служба</td>\n",
       "      <td>82.1</td>\n",
       "      <td>74.8</td>\n",
       "      <td>71.8</td>\n",
       "      <td>93.8</td>\n",
       "      <td>100.0</td>\n",
       "      <td>97.7</td>\n",
       "      <td>98.0</td>\n",
       "      <td>63.7</td>\n",
       "      <td>100.0</td>\n",
       "    </tr>\n",
       "    <tr>\n",
       "      <th>2</th>\n",
       "      <td>Федеральное казначейство</td>\n",
       "      <td>81.3</td>\n",
       "      <td>84.6</td>\n",
       "      <td>66.9</td>\n",
       "      <td>90.1</td>\n",
       "      <td>100.0</td>\n",
       "      <td>100.0</td>\n",
       "      <td>99.6</td>\n",
       "      <td>64.6</td>\n",
       "      <td>60.9</td>\n",
       "    </tr>\n",
       "    <tr>\n",
       "      <th>3</th>\n",
       "      <td>Федеральная таможенная служба</td>\n",
       "      <td>78.6</td>\n",
       "      <td>73.5</td>\n",
       "      <td>65.0</td>\n",
       "      <td>98.9</td>\n",
       "      <td>100.0</td>\n",
       "      <td>100.0</td>\n",
       "      <td>73.4</td>\n",
       "      <td>55.1</td>\n",
       "      <td>100.0</td>\n",
       "    </tr>\n",
       "    <tr>\n",
       "      <th>4</th>\n",
       "      <td>Федеральная налоговая служба</td>\n",
       "      <td>78.6</td>\n",
       "      <td>69.8</td>\n",
       "      <td>73.5</td>\n",
       "      <td>99.7</td>\n",
       "      <td>100.0</td>\n",
       "      <td>100.0</td>\n",
       "      <td>33.7</td>\n",
       "      <td>59.5</td>\n",
       "      <td>100.0</td>\n",
       "    </tr>\n",
       "    <tr>\n",
       "      <th>...</th>\n",
       "      <td>...</td>\n",
       "      <td>...</td>\n",
       "      <td>...</td>\n",
       "      <td>...</td>\n",
       "      <td>...</td>\n",
       "      <td>...</td>\n",
       "      <td>...</td>\n",
       "      <td>...</td>\n",
       "      <td>...</td>\n",
       "      <td>...</td>\n",
       "    </tr>\n",
       "    <tr>\n",
       "      <th>74</th>\n",
       "      <td>Федеральное агентство морского и речного транс�</td>\n",
       "      <td>47.9</td>\n",
       "      <td>43.2</td>\n",
       "      <td>35.1</td>\n",
       "      <td>50.3</td>\n",
       "      <td>56.3</td>\n",
       "      <td>95.6</td>\n",
       "      <td>25.5</td>\n",
       "      <td>0.0</td>\n",
       "      <td>100.0</td>\n",
       "    </tr>\n",
       "    <tr>\n",
       "      <th>75</th>\n",
       "      <td>Федеральное космическое агентство</td>\n",
       "      <td>46.2</td>\n",
       "      <td>39.1</td>\n",
       "      <td>47.2</td>\n",
       "      <td>92.9</td>\n",
       "      <td>37.5</td>\n",
       "      <td>36.3</td>\n",
       "      <td>44.0</td>\n",
       "      <td>0.0</td>\n",
       "      <td>100.0</td>\n",
       "    </tr>\n",
       "    <tr>\n",
       "      <th>76</th>\n",
       "      <td>Федеральное агентство специального строительс�</td>\n",
       "      <td>44.2</td>\n",
       "      <td>50.0</td>\n",
       "      <td>28.7</td>\n",
       "      <td>25.8</td>\n",
       "      <td>25.0</td>\n",
       "      <td>47.5</td>\n",
       "      <td>100.0</td>\n",
       "      <td>58.0</td>\n",
       "      <td>100.0</td>\n",
       "    </tr>\n",
       "    <tr>\n",
       "      <th>77</th>\n",
       "      <td>Министерство экономического развития Российск�</td>\n",
       "      <td>43.8</td>\n",
       "      <td>41.7</td>\n",
       "      <td>46.3</td>\n",
       "      <td>37.5</td>\n",
       "      <td>56.3</td>\n",
       "      <td>38.7</td>\n",
       "      <td>44.0</td>\n",
       "      <td>51.5</td>\n",
       "      <td>25.0</td>\n",
       "    </tr>\n",
       "    <tr>\n",
       "      <th>78</th>\n",
       "      <td>Федеральное агентство по делам молодежи</td>\n",
       "      <td>42.9</td>\n",
       "      <td>44.5</td>\n",
       "      <td>44.1</td>\n",
       "      <td>20.0</td>\n",
       "      <td>37.5</td>\n",
       "      <td>60.6</td>\n",
       "      <td>43.4</td>\n",
       "      <td>0.0</td>\n",
       "      <td>75.0</td>\n",
       "    </tr>\n",
       "  </tbody>\n",
       "</table>\n",
       "<p>79 rows × 10 columns</p>\n",
       "</div>"
      ],
      "text/plain": [
       "                                               name  grade  ind1  ind2  ind3  \\\n",
       "0    Министерство внутренних дел Российской Федерац   83.3  70.9  94.5  89.5   \n",
       "1                   Федеральная миграционная служба   82.1  74.8  71.8  93.8   \n",
       "2                          Федеральное казначейство   81.3  84.6  66.9  90.1   \n",
       "3                     Федеральная таможенная служба   78.6  73.5  65.0  98.9   \n",
       "4                      Федеральная налоговая служба   78.6  69.8  73.5  99.7   \n",
       "..                                              ...    ...   ...   ...   ...   \n",
       "74  Федеральное агентство морского и речного транс�   47.9  43.2  35.1  50.3   \n",
       "75                Федеральное космическое агентство   46.2  39.1  47.2  92.9   \n",
       "76   Федеральное агентство специального строительс�   44.2  50.0  28.7  25.8   \n",
       "77   Министерство экономического развития Российск�   43.8  41.7  46.3  37.5   \n",
       "78          Федеральное агентство по делам молодежи   42.9  44.5  44.1  20.0   \n",
       "\n",
       "     ind4   ind5   ind6  ind7   ind8  \n",
       "0    81.3   97.2   71.0  40.4  100.0  \n",
       "1   100.0   97.7   98.0  63.7  100.0  \n",
       "2   100.0  100.0   99.6  64.6   60.9  \n",
       "3   100.0  100.0   73.4  55.1  100.0  \n",
       "4   100.0  100.0   33.7  59.5  100.0  \n",
       "..    ...    ...    ...   ...    ...  \n",
       "74   56.3   95.6   25.5   0.0  100.0  \n",
       "75   37.5   36.3   44.0   0.0  100.0  \n",
       "76   25.0   47.5  100.0  58.0  100.0  \n",
       "77   56.3   38.7   44.0  51.5   25.0  \n",
       "78   37.5   60.6   43.4   0.0   75.0  \n",
       "\n",
       "[79 rows x 10 columns]"
      ]
     },
     "execution_count": 2,
     "metadata": {},
     "output_type": "execute_result"
    }
   ],
   "source": [
    "df = pd.read_excel(\"C:/Users/daria/Downloads/gmu.xlsx\")\n",
    "df"
   ]
  },
  {
   "cell_type": "code",
   "execution_count": 3,
   "metadata": {},
   "outputs": [],
   "source": [
    "# Словарь для расшифровки наименований колонок\n",
    "index_dict = {\n",
    "\"ind1\" : \"Среднесрочное финансовое планирование\",\n",
    "\"ind2\" : \"Исполнение бюджета в части расходов\",\n",
    "\"ind3\" : \"Исполнение бюджета по доходам\",\n",
    "\"ind4\" : \"Учет и отчетность\",\n",
    "\"ind5\" : \"Контроль и аудит\",\n",
    "\"ind6\" : \"Исполнение судебных актов\",\n",
    "\"ind7\" : \"Кадровый потенциал\",\n",
    "\"ind8\" : \"Управление активами\"\n",
    "}"
   ]
  },
  {
   "cell_type": "code",
   "execution_count": 4,
   "metadata": {},
   "outputs": [],
   "source": [
    "df = df.rename(columns=index_dict) # Переименуем колонки"
   ]
  },
  {
   "cell_type": "code",
   "execution_count": 5,
   "metadata": {},
   "outputs": [],
   "source": [
    "#Массив с наименованиями колонок (только индексы, без name и grade)\n",
    "columns_names  = df.columns[2:len(df)]\n",
    "\n",
    "#Аналогичный предыдущему массив только для новых колонок (стандартизируем далее их)\n",
    "columns_names_z = []\n",
    "for i in columns_names:\n",
    "    columns_names_z.append(i + \"_z\")\n",
    "\n",
    "df_x = df[columns_names] # Создадим новый фрейм с колонками, которые необходимо стандартизировать\n",
    "\n",
    "df[columns_names_z] = (df_x-df_x.mean())/df_x. std() # Стандартизируем все колонки"
   ]
  },
  {
   "cell_type": "code",
   "execution_count": 6,
   "metadata": {},
   "outputs": [],
   "source": [
    "# Для анализа возьмем 4 переменных\n",
    "my_list = ['Среднесрочное финансовое планирование', 'Исполнение бюджета в части расходов', 'Учет и отчетность', 'Контроль и аудит']"
   ]
  },
  {
   "cell_type": "markdown",
   "metadata": {},
   "source": [
    "### Дендрограмма\n",
    "#### Рассмотрим комбинацию колонок 'Среднесрочное финансовое планирование', 'Исполнение бюджета в части расходов', 'Учет и отчетность', 'Контроль и аудит'"
   ]
  },
  {
   "cell_type": "code",
   "execution_count": 82,
   "metadata": {},
   "outputs": [
    {
     "data": {
      "image/png": "[encoded data removed]",
      "text/plain": [
       "<Figure size 1500x500 with 1 Axes>"
      ]
     },
     "metadata": {},
     "output_type": "display_data"
    }
   ],
   "source": [
    "plt.figure(figsize=(15, 5))\n",
    "dn = dendrogram(linkage(df[my_list], 'ward'))\n",
    "plt.title(f\"Дендрограмма для комбинации {', '.join(map(str, my_list))}\")\n",
    "plt.show()"
   ]
  },
  {
   "cell_type": "markdown",
   "metadata": {},
   "source": [
    "### Описание полученной дендрограммы:"
   ]
  },
  {
   "cell_type": "markdown",
   "metadata": {},
   "source": [
    "На представленной дендрограмме можно увидеть три основных кластера, каждый из которых выделен определенным цветом:\n",
    "\n",
    "<span style='color:Orange'>Оранжевый кластер </span> - охватывает примерно 1/3 часть дендрограммы, начиная с левого края. Этот кластер имеет множество разветвлений, что может указывать на сложность и разнообразие элементов в кластере.\n",
    "\n",
    "<span style='color:Green'>Зеленый кластер </span>- занимает следующую, после оранжевой, часть дендрограммы, примерно треть графика. Выглядит менее сложным, чем оранжевый кластер, с меньшим количеством подразделений.\n",
    "\n",
    "<span style='color:Red'>Красный кластер </span>- находится в правой части дендрограммы, занимая последнюю 1/3 часть графика (даже, как можно заметить, больше трети). Этот кластер также демонстрирует значительное разнообразие с множеством подразделений."
   ]
  },
  {
   "cell_type": "markdown",
   "metadata": {},
   "source": [
    "## 3. Определите число кластеров, объясните своё решение."
   ]
  },
  {
   "cell_type": "markdown",
   "metadata": {},
   "source": [
    "### Объяснение"
   ]
  },
  {
   "cell_type": "markdown",
   "metadata": {},
   "source": [
    "Выбор количества кластеров осуществим на основе значений Индекса Калински-Харабаша. Данный индекс учитывает плотность внутри кластеров, а также разброс между кластерами. Фактически, это приводит к балансу, который позволяет получить \"компактные\" и \"четкие\" кластеры.\n",
    "\n",
    "Он рассчитывается как соотношение общего разброса объектов между кластерами и внутри их. Оптимальным считается число кластеров, при котором значение индекса максимально."
   ]
  },
  {
   "cell_type": "markdown",
   "metadata": {},
   "source": [
    "### Код и полученное значение"
   ]
  },
  {
   "cell_type": "code",
   "execution_count": 7,
   "metadata": {},
   "outputs": [
    {
     "data": {
      "text/markdown": [
       "### <b>Из рассчитанного Индекса Калински-Харабаша получаем оптимальное количество кластеров, равное 3, и выбираем данное значение в качестве основного"
      ],
      "text/plain": [
       "<IPython.core.display.Markdown object>"
      ]
     },
     "metadata": {},
     "output_type": "display_data"
    }
   ],
   "source": [
    "Z = linkage(df[my_list], method='ward', metric='euclidean') \n",
    "calinski_harabasz_score_values = {}\n",
    "\n",
    "for k in range (2, 40):\n",
    "    labels = fcluster(Z, t=k, criterion='maxclust')\n",
    "    calinski_harabasz_score_values[k] = calinski_harabasz_score(df[my_list], labels)\n",
    "\n",
    "clusters_number = max(calinski_harabasz_score_values, key=calinski_harabasz_score_values.get)\n",
    "display(Markdown(f\"### <b>Из рассчитанного Индекса Калински-Харабаша получаем оптимальное количество кластеров, равное {clusters_number}, и выбираем данное значение в качестве основного\"))\n"
   ]
  },
  {
   "cell_type": "markdown",
   "metadata": {},
   "source": [
    "### Добавим в наш датасет колонку с принадлежностью к кластеру"
   ]
  },
  {
   "cell_type": "code",
   "execution_count": 8,
   "metadata": {},
   "outputs": [
    {
     "data": {
      "text/html": [
       "<div>\n",
       "<style scoped>\n",
       "    .dataframe tbody tr th:only-of-type {\n",
       "        vertical-align: middle;\n",
       "    }\n",
       "\n",
       "    .dataframe tbody tr th {\n",
       "        vertical-align: top;\n",
       "    }\n",
       "\n",
       "    .dataframe thead th {\n",
       "        text-align: right;\n",
       "    }\n",
       "</style>\n",
       "<table border=\"1\" class=\"dataframe\">\n",
       "  <thead>\n",
       "    <tr style=\"text-align: right;\">\n",
       "      <th></th>\n",
       "      <th>name</th>\n",
       "      <th>grade</th>\n",
       "      <th>Среднесрочное финансовое планирование</th>\n",
       "      <th>Исполнение бюджета в части расходов</th>\n",
       "      <th>Исполнение бюджета по доходам</th>\n",
       "      <th>Учет и отчетность</th>\n",
       "      <th>Контроль и аудит</th>\n",
       "      <th>Исполнение судебных актов</th>\n",
       "      <th>Кадровый потенциал</th>\n",
       "      <th>Управление активами</th>\n",
       "      <th>Среднесрочное финансовое планирование_z</th>\n",
       "      <th>Исполнение бюджета в части расходов_z</th>\n",
       "      <th>Исполнение бюджета по доходам_z</th>\n",
       "      <th>Учет и отчетность_z</th>\n",
       "      <th>Контроль и аудит_z</th>\n",
       "      <th>Исполнение судебных актов_z</th>\n",
       "      <th>Кадровый потенциал_z</th>\n",
       "      <th>Управление активами_z</th>\n",
       "      <th>culster_labels</th>\n",
       "    </tr>\n",
       "  </thead>\n",
       "  <tbody>\n",
       "    <tr>\n",
       "      <th>0</th>\n",
       "      <td>Министерство внутренних дел Российской Федерац</td>\n",
       "      <td>83.3</td>\n",
       "      <td>70.9</td>\n",
       "      <td>94.5</td>\n",
       "      <td>89.5</td>\n",
       "      <td>81.3</td>\n",
       "      <td>97.2</td>\n",
       "      <td>71.0</td>\n",
       "      <td>40.4</td>\n",
       "      <td>100.0</td>\n",
       "      <td>0.987256</td>\n",
       "      <td>2.971888</td>\n",
       "      <td>0.917105</td>\n",
       "      <td>0.547476</td>\n",
       "      <td>1.019135</td>\n",
       "      <td>-0.279571</td>\n",
       "      <td>-0.433371</td>\n",
       "      <td>0.611107</td>\n",
       "      <td>1</td>\n",
       "    </tr>\n",
       "    <tr>\n",
       "      <th>1</th>\n",
       "      <td>Федеральная миграционная служба</td>\n",
       "      <td>82.1</td>\n",
       "      <td>74.8</td>\n",
       "      <td>71.8</td>\n",
       "      <td>93.8</td>\n",
       "      <td>100.0</td>\n",
       "      <td>97.7</td>\n",
       "      <td>98.0</td>\n",
       "      <td>63.7</td>\n",
       "      <td>100.0</td>\n",
       "      <td>1.286669</td>\n",
       "      <td>1.212633</td>\n",
       "      <td>1.128905</td>\n",
       "      <td>1.361800</td>\n",
       "      <td>1.042180</td>\n",
       "      <td>0.893604</td>\n",
       "      <td>0.792669</td>\n",
       "      <td>0.611107</td>\n",
       "      <td>1</td>\n",
       "    </tr>\n",
       "    <tr>\n",
       "      <th>2</th>\n",
       "      <td>Федеральное казначейство</td>\n",
       "      <td>81.3</td>\n",
       "      <td>84.6</td>\n",
       "      <td>66.9</td>\n",
       "      <td>90.1</td>\n",
       "      <td>100.0</td>\n",
       "      <td>100.0</td>\n",
       "      <td>99.6</td>\n",
       "      <td>64.6</td>\n",
       "      <td>60.9</td>\n",
       "      <td>2.039039</td>\n",
       "      <td>0.832882</td>\n",
       "      <td>0.946659</td>\n",
       "      <td>1.361800</td>\n",
       "      <td>1.148183</td>\n",
       "      <td>0.963126</td>\n",
       "      <td>0.840026</td>\n",
       "      <td>-0.911071</td>\n",
       "      <td>1</td>\n",
       "    </tr>\n",
       "    <tr>\n",
       "      <th>3</th>\n",
       "      <td>Федеральная таможенная служба</td>\n",
       "      <td>78.6</td>\n",
       "      <td>73.5</td>\n",
       "      <td>65.0</td>\n",
       "      <td>98.9</td>\n",
       "      <td>100.0</td>\n",
       "      <td>100.0</td>\n",
       "      <td>73.4</td>\n",
       "      <td>55.1</td>\n",
       "      <td>100.0</td>\n",
       "      <td>1.186864</td>\n",
       "      <td>0.685632</td>\n",
       "      <td>1.380110</td>\n",
       "      <td>1.361800</td>\n",
       "      <td>1.148183</td>\n",
       "      <td>-0.175289</td>\n",
       "      <td>0.340139</td>\n",
       "      <td>0.611107</td>\n",
       "      <td>1</td>\n",
       "    </tr>\n",
       "    <tr>\n",
       "      <th>4</th>\n",
       "      <td>Федеральная налоговая служба</td>\n",
       "      <td>78.6</td>\n",
       "      <td>69.8</td>\n",
       "      <td>73.5</td>\n",
       "      <td>99.7</td>\n",
       "      <td>100.0</td>\n",
       "      <td>100.0</td>\n",
       "      <td>33.7</td>\n",
       "      <td>59.5</td>\n",
       "      <td>100.0</td>\n",
       "      <td>0.902806</td>\n",
       "      <td>1.344384</td>\n",
       "      <td>1.419514</td>\n",
       "      <td>1.361800</td>\n",
       "      <td>1.148183</td>\n",
       "      <td>-1.900291</td>\n",
       "      <td>0.571666</td>\n",
       "      <td>0.611107</td>\n",
       "      <td>1</td>\n",
       "    </tr>\n",
       "  </tbody>\n",
       "</table>\n",
       "</div>"
      ],
      "text/plain": [
       "                                             name  grade  \\\n",
       "0  Министерство внутренних дел Российской Федерац   83.3   \n",
       "1                 Федеральная миграционная служба   82.1   \n",
       "2                        Федеральное казначейство   81.3   \n",
       "3                   Федеральная таможенная служба   78.6   \n",
       "4                    Федеральная налоговая служба   78.6   \n",
       "\n",
       "   Среднесрочное финансовое планирование  Исполнение бюджета в части расходов  \\\n",
       "0                                   70.9                                 94.5   \n",
       "1                                   74.8                                 71.8   \n",
       "2                                   84.6                                 66.9   \n",
       "3                                   73.5                                 65.0   \n",
       "4                                   69.8                                 73.5   \n",
       "\n",
       "   Исполнение бюджета по доходам  Учет и отчетность  Контроль и аудит  \\\n",
       "0                           89.5               81.3              97.2   \n",
       "1                           93.8              100.0              97.7   \n",
       "2                           90.1              100.0             100.0   \n",
       "3                           98.9              100.0             100.0   \n",
       "4                           99.7              100.0             100.0   \n",
       "\n",
       "   Исполнение судебных актов  Кадровый потенциал  Управление активами  \\\n",
       "0                       71.0                40.4                100.0   \n",
       "1                       98.0                63.7                100.0   \n",
       "2                       99.6                64.6                 60.9   \n",
       "3                       73.4                55.1                100.0   \n",
       "4                       33.7                59.5                100.0   \n",
       "\n",
       "   Среднесрочное финансовое планирование_z  \\\n",
       "0                                 0.987256   \n",
       "1                                 1.286669   \n",
       "2                                 2.039039   \n",
       "3                                 1.186864   \n",
       "4                                 0.902806   \n",
       "\n",
       "   Исполнение бюджета в части расходов_z  Исполнение бюджета по доходам_z  \\\n",
       "0                               2.971888                         0.917105   \n",
       "1                               1.212633                         1.128905   \n",
       "2                               0.832882                         0.946659   \n",
       "3                               0.685632                         1.380110   \n",
       "4                               1.344384                         1.419514   \n",
       "\n",
       "   Учет и отчетность_z  Контроль и аудит_z  Исполнение судебных актов_z  \\\n",
       "0             0.547476            1.019135                    -0.279571   \n",
       "1             1.361800            1.042180                     0.893604   \n",
       "2             1.361800            1.148183                     0.963126   \n",
       "3             1.361800            1.148183                    -0.175289   \n",
       "4             1.361800            1.148183                    -1.900291   \n",
       "\n",
       "   Кадровый потенциал_z  Управление активами_z  culster_labels  \n",
       "0             -0.433371               0.611107               1  \n",
       "1              0.792669               0.611107               1  \n",
       "2              0.840026              -0.911071               1  \n",
       "3              0.340139               0.611107               1  \n",
       "4              0.571666               0.611107               1  "
      ]
     },
     "execution_count": 8,
     "metadata": {},
     "output_type": "execute_result"
    }
   ],
   "source": [
    "labels = fcluster(Z, t=clusters_number, criterion='maxclust')\n",
    "df['culster_labels'] = labels\n",
    "df.head(5)"
   ]
  },
  {
   "cell_type": "markdown",
   "metadata": {},
   "source": [
    "## 4. Опишите получившиеся кластеры на основе описательной статистки."
   ]
  },
  {
   "cell_type": "markdown",
   "metadata": {},
   "source": [
    "### Значения описательной статистики"
   ]
  },
  {
   "cell_type": "markdown",
   "metadata": {},
   "source": [
    "#### Среднее значение и медиана по каждому кластеру"
   ]
  },
  {
   "cell_type": "code",
   "execution_count": 9,
   "metadata": {},
   "outputs": [
    {
     "data": {
      "text/html": [
       "<div>\n",
       "<style scoped>\n",
       "    .dataframe tbody tr th:only-of-type {\n",
       "        vertical-align: middle;\n",
       "    }\n",
       "\n",
       "    .dataframe tbody tr th {\n",
       "        vertical-align: top;\n",
       "    }\n",
       "\n",
       "    .dataframe thead tr th {\n",
       "        text-align: left;\n",
       "    }\n",
       "\n",
       "    .dataframe thead tr:last-of-type th {\n",
       "        text-align: right;\n",
       "    }\n",
       "</style>\n",
       "<table border=\"1\" class=\"dataframe\">\n",
       "  <thead>\n",
       "    <tr>\n",
       "      <th></th>\n",
       "      <th colspan=\"2\" halign=\"left\">Среднесрочное финансовое планирование</th>\n",
       "      <th colspan=\"2\" halign=\"left\">Исполнение бюджета в части расходов</th>\n",
       "      <th colspan=\"2\" halign=\"left\">Учет и отчетность</th>\n",
       "      <th colspan=\"2\" halign=\"left\">Контроль и аудит</th>\n",
       "    </tr>\n",
       "    <tr>\n",
       "      <th></th>\n",
       "      <th>mean</th>\n",
       "      <th>median</th>\n",
       "      <th>mean</th>\n",
       "      <th>median</th>\n",
       "      <th>mean</th>\n",
       "      <th>median</th>\n",
       "      <th>mean</th>\n",
       "      <th>median</th>\n",
       "    </tr>\n",
       "    <tr>\n",
       "      <th>culster_labels</th>\n",
       "      <th></th>\n",
       "      <th></th>\n",
       "      <th></th>\n",
       "      <th></th>\n",
       "      <th></th>\n",
       "      <th></th>\n",
       "      <th></th>\n",
       "      <th></th>\n",
       "    </tr>\n",
       "  </thead>\n",
       "  <tbody>\n",
       "    <tr>\n",
       "      <th>1</th>\n",
       "      <td>66.022727</td>\n",
       "      <td>68.15</td>\n",
       "      <td>62.936364</td>\n",
       "      <td>66.30</td>\n",
       "      <td>95.750000</td>\n",
       "      <td>100.0</td>\n",
       "      <td>90.440909</td>\n",
       "      <td>95.60</td>\n",
       "    </tr>\n",
       "    <tr>\n",
       "      <th>2</th>\n",
       "      <td>56.684000</td>\n",
       "      <td>56.90</td>\n",
       "      <td>56.576000</td>\n",
       "      <td>58.50</td>\n",
       "      <td>70.780000</td>\n",
       "      <td>62.5</td>\n",
       "      <td>51.492000</td>\n",
       "      <td>55.00</td>\n",
       "    </tr>\n",
       "    <tr>\n",
       "      <th>3</th>\n",
       "      <td>53.612500</td>\n",
       "      <td>53.00</td>\n",
       "      <td>51.159375</td>\n",
       "      <td>53.85</td>\n",
       "      <td>48.546875</td>\n",
       "      <td>53.1</td>\n",
       "      <td>82.965625</td>\n",
       "      <td>85.95</td>\n",
       "    </tr>\n",
       "  </tbody>\n",
       "</table>\n",
       "</div>"
      ],
      "text/plain": [
       "               Среднесрочное финансовое планирование         \\\n",
       "                                                mean median   \n",
       "culster_labels                                                \n",
       "1                                          66.022727  68.15   \n",
       "2                                          56.684000  56.90   \n",
       "3                                          53.612500  53.00   \n",
       "\n",
       "               Исполнение бюджета в части расходов        Учет и отчетность  \\\n",
       "                                              mean median              mean   \n",
       "culster_labels                                                                \n",
       "1                                        62.936364  66.30         95.750000   \n",
       "2                                        56.576000  58.50         70.780000   \n",
       "3                                        51.159375  53.85         48.546875   \n",
       "\n",
       "                      Контроль и аудит         \n",
       "               median             mean median  \n",
       "culster_labels                                 \n",
       "1               100.0        90.440909  95.60  \n",
       "2                62.5        51.492000  55.00  \n",
       "3                53.1        82.965625  85.95  "
      ]
     },
     "execution_count": 9,
     "metadata": {},
     "output_type": "execute_result"
    }
   ],
   "source": [
    "aggregated_stats = df.groupby('culster_labels')[my_list].agg(['mean', 'median'])\n",
    "aggregated_stats"
   ]
  },
  {
   "cell_type": "markdown",
   "metadata": {},
   "source": [
    "#### Количество значений в каждом кластере"
   ]
  },
  {
   "cell_type": "code",
   "execution_count": 10,
   "metadata": {},
   "outputs": [
    {
     "data": {
      "text/html": [
       "<table border=\"1\" class=\"dataframe\">\n",
       "  <thead>\n",
       "    <tr style=\"text-align: right;\">\n",
       "      <th>culster_labels</th>\n",
       "      <th>count</th>\n",
       "    </tr>\n",
       "  </thead>\n",
       "  <tbody>\n",
       "    <tr>\n",
       "      <td>3</td>\n",
       "      <td>32</td>\n",
       "    </tr>\n",
       "    <tr>\n",
       "      <td>2</td>\n",
       "      <td>25</td>\n",
       "    </tr>\n",
       "    <tr>\n",
       "      <td>1</td>\n",
       "      <td>22</td>\n",
       "    </tr>\n",
       "  </tbody>\n",
       "</table>"
      ],
      "text/plain": [
       "<IPython.core.display.HTML object>"
      ]
     },
     "metadata": {},
     "output_type": "display_data"
    }
   ],
   "source": [
    "display(HTML(df['culster_labels'].value_counts().reset_index().to_html(index=False)))"
   ]
  },
  {
   "cell_type": "markdown",
   "metadata": {},
   "source": [
    "### Вывод по описательной статистике"
   ]
  },
  {
   "cell_type": "markdown",
   "metadata": {},
   "source": [
    "<b> На основании данных о среднем и медиане по каждому кластеру, можно сделать следующие выводы: </b>\n",
    "\n",
    "<b> Кластер 1 </b> - в данном кластере находятся самые высокие значения среднего и медианы (среди представленных) по всем рассматриваемым характеристикам;\n",
    "\n",
    "<b> Кластер 2 </b> - в данном кластере находятся самые высокие значения среднего и медианы (за исключением первого кластера) по следующим переменным: среднесрочное финансовое планирование, исполнение бюджета в части расходов, учет и отчетность. Однако, показатель котроля и аудита ниже, чем в третьем кластере.\n",
    "\n",
    "<b> Кластер 3 </b> - в данном кластере средние значения и медианы по всем показателям ниже, чем в других кластерах, за исключением контроля и аудита, который выше чем, у кластера 2, но ниже, чем у кластера 1.\n",
    "\n",
    "<b> На основании количества объектов в каждом кластере можно сказать, что они распределились практически равномерно (что учитывал Индекс Калински-Харабаша), однако к третьему кластеру отнесено больше объектов, чем к остальным. </b>"
   ]
  },
  {
   "cell_type": "markdown",
   "metadata": {},
   "source": [
    "## 5. Дайте названия кластерам и обоснуйте их."
   ]
  },
  {
   "cell_type": "markdown",
   "metadata": {},
   "source": [
    "Кластер 1 <b> (Лидеры) </b>: Данный кластер включает государственные органы с высоким уровнем компетентности по всем выбранным для анализа параметрам. Они показывают наилучшие результаты, при осуществлении деятельности, связанной с планированием и исполнением бюджета, отчетностью и контролем. Например, Казначейство России, ФСИН России, МВД России, Следственный комитет России и другие.\n",
    "\n",
    "Кластер 2 <b> (Исполнители) </b>: Государственные органы в данном кластере имеют сравнительно хорошие показатели по среднесрочному планированию и исполнению бюджета, но их деятельность по осуществлению контроля и аудита не является эффективной. Они эффективны в непосредственной финансовой деятельности, но нуждаются в улучшении надзорных функций. Например, ФССП России, Минэкономразвития России, Минстрой России, Росстат России и другие.\n",
    "\n",
    "Кластер 3 <b> (Развивающиеся государственные органы) </b>: Данные государственные органы показывают достаточно низкие результаты по всем рассматриваемым параметрам, что говорит о наличии потенциала для развития и улучшения. Их слабые позиции в управлении бюджетом и осуществлении контроля требуют особого внимания и реализации дополнительных мер для повышения эффективности. Например, Минфин России, Счетная палата России, Минюст России, Гоусдарственная Дума и другие."
   ]
  },
  {
   "cell_type": "markdown",
   "metadata": {},
   "source": [
    "## 6. Почему получилась именно такая кластерная структура? Полученные результаты соответствуют вашем изначальным предположениям или оказались неожиданными?"
   ]
  },
  {
   "cell_type": "markdown",
   "metadata": {},
   "source": [
    "Изначально мы думали, что если кластеризовать российские государственные органы по четырём признакам — «Среднесрочное финансовое планирование», «Исполнение бюджета в части расходов», «Учет и отчетность», «Контроль и аудит», то можно предположить, что кластеры будут основаны на уровне развития этих функций, их интеграции и эффективности в различных государственных учреждениях. Например:\n",
    "\n",
    "1. Продвинутые финансовые институты (высокий уровень по всем показателям).\n",
    "Это государственные органы, которые демонстрируют высокий уровень во всех четырёх направлениях. Они обладают хорошо отлаженными системами финансового планирования, контроля, аудита и отчетности. Например, Минфин России.\n",
    "\n",
    "2. Среднеразвитые государственные органы (высокий или средний уровень по отдельным функциям, но низкий в других).\n",
    "В данный кластер могут входить ведомства, у которых есть сильные стороны в отдельных аспектах, но в других они работают менее эффективно. Например, может быть высокий уровень исполнения бюджета по расходам с менее эффективным аудитом и отчестностью. Например, Минтранс России.\n",
    "\n",
    "3. Сильные в исполнении бюджета, но слабые в отчетности и аудите государственные органы.\n",
    "К такой категории можно отнести госудрственные органы, которые хорошо справляются с исполнением бюджета и финансовым планированием, но недостаточно хорошо организованы в части учёта, отчетности и аудита. Например, Минтруд России.\n",
    "\n",
    "4. Сильные в контроле и аудите, но слабые в финансовом планировании.\n",
    "Данные государственные органы органы могут эффективно осуществлять контроль и аудит, но при этом испытывать трудности с долгосрочным финансовым планированием и исполнением бюджета. Например, ФНС России.\n",
    "\n",
    "\n",
    "Примерно такая кластеризация и получилась, мы имеем:\n",
    "\n",
    "<b> Кластер 1 - Лидеры = предполагаемый кластер \"Продвинутые финансовые институты\". </b>\n",
    "Однако, предполагаемый нами Минфин России в этот кластер не попал, он попал в третий кластер.\n",
    "\n",
    "<b> Кластер 2 - Исполнители = предполагаемый кластер \"Технически сильные, но слабые в отчетности и аудите\".  </b>\n",
    "Мы предполагали, что в данный кластер попадет Минтруд России, однако он попал в первый кластер.\n",
    "\n",
    "<b> Кластер 3 - Развивающиеся госорганы = предполагаемый кластер \"Среднеразвитые органы\". </b>\n",
    "Рассмотренные показатели, к сожалению, в данных государственных органах имеют самые низкие средние и медианные значения. Предполагаемый нами Минтранс России оказался именно в этом кластере.\n",
    "\n",
    "<b> Четвертый кластер \"Сильные в контроле и аудите, но слабые в планировании\" </b>, который, как мы предполагали, будет наиболее эффективен в аудите, но слаб в финансовом планировании, в ходе анализа выделен не был. "
   ]
  },
  {
   "cell_type": "markdown",
   "metadata": {},
   "source": [
    "# Часть 2\n",
    "\n",
    "##### Проведите кластерный анализ по методу k-средних с использованием не менее 4-х метрических переменных. Приведите подтверждение, что выбранные переменные могут быть использованы для кластеризации."
   ]
  },
  {
   "cell_type": "markdown",
   "metadata": {},
   "source": [
    "## 1. Определите число кластеров, объясните своё решение."
   ]
  },
  {
   "cell_type": "markdown",
   "metadata": {},
   "source": [
    "### Объяснение"
   ]
  },
  {
   "cell_type": "markdown",
   "metadata": {},
   "source": [
    "Выбор количества кластеров осуществим на основе значений Индекса Калински-Харабаша. Данный индекс учитывает плотность внутри кластеров, а также разброс между кластерами. Фактически, это приводит к балансу, который позволяет получить \"компактные\" и \"четкие\" кластеры.\n",
    "\n",
    "Он рассчитывается как соотношение общего разброса объектов между кластерами и внутри их. Оптимальным считается число кластеров, при котором значение индекса максимально."
   ]
  },
  {
   "cell_type": "markdown",
   "metadata": {},
   "source": [
    "### Код"
   ]
  },
  {
   "cell_type": "code",
   "execution_count": 8,
   "metadata": {},
   "outputs": [],
   "source": [
    "from sklearn.cluster import KMeans"
   ]
  },
  {
   "cell_type": "code",
   "execution_count": 9,
   "metadata": {},
   "outputs": [],
   "source": [
    "df = pd.read_excel(\"C:/Users/daria/Downloads/WIPO-GII_2022.xlsx\")"
   ]
  },
  {
   "cell_type": "code",
   "execution_count": 10,
   "metadata": {},
   "outputs": [],
   "source": [
    "# Оставим в датасете данные только за 2020 год (Алиса Валерьевна на паре сказала, что нам нужно работать только с ними)\n",
    "df = df.drop(columns=[col for col in df.columns if col.endswith('_2021') or col.endswith('_2022')]) "
   ]
  },
  {
   "cell_type": "code",
   "execution_count": 5,
   "metadata": {},
   "outputs": [],
   "source": [
    "from itertools import combinations\n",
    "\n",
    "df_numeric = df.select_dtypes(include=[float, int])\n",
    "corr_matrix = df_numeric.corr()\n",
    "\n",
    "columns = df_numeric.columns\n",
    "combinations_of_columns = list(combinations(columns, 4)) # Генерируем 4 неповторяющиеся комбинации\n",
    "\n",
    "def check_correlation_below_threshold(cols, corr_matrix, threshold=0.75): # Функция для проверки, есть ли в матрице корреляций значения выше 0,75 \n",
    "    for col1, col2 in combinations(cols, 2):\n",
    "        if abs(corr_matrix.loc[col1, col2]) >= threshold:\n",
    "            return False\n",
    "    return True\n",
    "\n",
    "valid_combination = [] # Список всех возможных комбинаций по 4 переменных\n",
    "for comb in combinations_of_columns:\n",
    "    if check_correlation_below_threshold(comb, corr_matrix):\n",
    "        valid_combination.append(list(comb))\n"
   ]
  },
  {
   "cell_type": "code",
   "execution_count": 6,
   "metadata": {},
   "outputs": [
    {
     "data": {
      "text/plain": [
       "191930"
      ]
     },
     "execution_count": 6,
     "metadata": {},
     "output_type": "execute_result"
    }
   ],
   "source": [
    "len(valid_combination)"
   ]
  },
  {
   "cell_type": "markdown",
   "metadata": {},
   "source": [
    "### Выбор переменных"
   ]
  },
  {
   "cell_type": "code",
   "execution_count": 11,
   "metadata": {},
   "outputs": [],
   "source": [
    "# Так как у нас получилось большое количество подходящих комбинаций, возьмем для выполнения данной работы одну случайную комбинацию\n",
    "# Было сгенерировано через библиотеку \"random\", но мы зафиксировали полученное значение\n",
    "my_list = [\"Business environment_2020\", \"Business sophistication index_2020\", \"Ease of getting credit_2020\", \"Market sophistication index_2020\"]"
   ]
  },
  {
   "cell_type": "code",
   "execution_count": 9,
   "metadata": {},
   "outputs": [
    {
     "data": {
      "text/markdown": [
       "### Рассмотрим комбинацию из 4 колонок: Business environment_2020, Business sophistication index_2020, Ease of getting credit_2020, Market sophistication index_2020"
      ],
      "text/plain": [
       "<IPython.core.display.Markdown object>"
      ]
     },
     "metadata": {},
     "output_type": "display_data"
    }
   ],
   "source": [
    "display(Markdown(f\"### Рассмотрим комбинацию из 4 колонок: {', '.join(map(str, my_list))}\"))"
   ]
  },
  {
   "cell_type": "markdown",
   "metadata": {},
   "source": [
    "### Матрица корреляций для этих колонок:"
   ]
  },
  {
   "cell_type": "code",
   "execution_count": 14,
   "metadata": {},
   "outputs": [
    {
     "data": {
      "text/html": [
       "<table border=\"1\" class=\"dataframe\">\n",
       "  <thead>\n",
       "    <tr style=\"text-align: right;\">\n",
       "      <th></th>\n",
       "      <th>Business environment_2020</th>\n",
       "      <th>Business sophistication index_2020</th>\n",
       "      <th>Ease of getting credit_2020</th>\n",
       "      <th>Market sophistication index_2020</th>\n",
       "    </tr>\n",
       "  </thead>\n",
       "  <tbody>\n",
       "    <tr>\n",
       "      <th>Business environment_2020</th>\n",
       "      <td>1.000000</td>\n",
       "      <td>0.645183</td>\n",
       "      <td>0.300924</td>\n",
       "      <td>0.612061</td>\n",
       "    </tr>\n",
       "    <tr>\n",
       "      <th>Business sophistication index_2020</th>\n",
       "      <td>0.645183</td>\n",
       "      <td>1.000000</td>\n",
       "      <td>0.119349</td>\n",
       "      <td>0.680695</td>\n",
       "    </tr>\n",
       "    <tr>\n",
       "      <th>Ease of getting credit_2020</th>\n",
       "      <td>0.300924</td>\n",
       "      <td>0.119349</td>\n",
       "      <td>1.000000</td>\n",
       "      <td>0.506339</td>\n",
       "    </tr>\n",
       "    <tr>\n",
       "      <th>Market sophistication index_2020</th>\n",
       "      <td>0.612061</td>\n",
       "      <td>0.680695</td>\n",
       "      <td>0.506339</td>\n",
       "      <td>1.000000</td>\n",
       "    </tr>\n",
       "  </tbody>\n",
       "</table>"
      ],
      "text/plain": [
       "<IPython.core.display.HTML object>"
      ]
     },
     "metadata": {},
     "output_type": "display_data"
    }
   ],
   "source": [
    "display(HTML(df[my_list].corr().to_html()))"
   ]
  },
  {
   "cell_type": "markdown",
   "metadata": {},
   "source": [
    "Как мы видим, между столбцами корреляция ниже 0.75, значит можно использовать k-means кластеризацию"
   ]
  },
  {
   "cell_type": "markdown",
   "metadata": {},
   "source": [
    "### Поиск числа кластеров через Индекс Калински-Харабаша"
   ]
  },
  {
   "cell_type": "code",
   "execution_count": 13,
   "metadata": {},
   "outputs": [],
   "source": [
    "import warnings\n",
    "warnings.filterwarnings(\"ignore\")"
   ]
  },
  {
   "cell_type": "code",
   "execution_count": 14,
   "metadata": {},
   "outputs": [
    {
     "data": {
      "text/markdown": [
       "### Из рассчитанного Индекса Калински-Харабаша получаем <b> оптимальное количество кластеров, равное 3, </b> и выбираем данное значение в качестве основного"
      ],
      "text/plain": [
       "<IPython.core.display.Markdown object>"
      ]
     },
     "metadata": {},
     "output_type": "display_data"
    }
   ],
   "source": [
    "# Объявим массив только для новых колонок\n",
    "columns_names_z = []\n",
    "for j in my_list:\n",
    "    columns_names_z.append(j + \"_z\")\n",
    "\n",
    "df_x = df[my_list]\n",
    "df[columns_names_z] = (df_x-df_x.mean())/df_x. std() # Стандартизируем все колонки\n",
    "    \n",
    "df_new = df[[\"Country\"] + columns_names_z + my_list] # Создадим новый датасет с наименование стран (строк), выбранными 4 колонками и их стандартизированными значениями\n",
    "df_new = df_new.dropna() # Удалим нулевые значения, если они там есть\n",
    "\n",
    "    \n",
    "X = df_new[columns_names_z]\n",
    "calinski_harabasz_score_values = {}\n",
    "# Рассчитаем Индекс Калински-Харабаша для 40 кластеров\n",
    "for k in range (2, 40): \n",
    "    labels = KMeans(n_clusters=k).fit_predict(X)\n",
    "    calinski_harabasz_score_values[k] = calinski_harabasz_score(X, labels)\n",
    "\n",
    "clusters_number = max(calinski_harabasz_score_values, key=calinski_harabasz_score_values.get)\n",
    "display(Markdown(f\"### Из рассчитанного Индекса Калински-Харабаша получаем <b> оптимальное количество кластеров, равное {clusters_number}, </b> и выбираем данное значение в качестве основного\"))"
   ]
  },
  {
   "cell_type": "markdown",
   "metadata": {},
   "source": [
    "## 2. Опишите получившиеся кластеры с помощью описательной статистки."
   ]
  },
  {
   "cell_type": "markdown",
   "metadata": {},
   "source": [
    "### Определяем принадлежность к кластеру"
   ]
  },
  {
   "cell_type": "code",
   "execution_count": 15,
   "metadata": {},
   "outputs": [
    {
     "data": {
      "text/html": [
       "<div>\n",
       "<style scoped>\n",
       "    .dataframe tbody tr th:only-of-type {\n",
       "        vertical-align: middle;\n",
       "    }\n",
       "\n",
       "    .dataframe tbody tr th {\n",
       "        vertical-align: top;\n",
       "    }\n",
       "\n",
       "    .dataframe thead th {\n",
       "        text-align: right;\n",
       "    }\n",
       "</style>\n",
       "<table border=\"1\" class=\"dataframe\">\n",
       "  <thead>\n",
       "    <tr style=\"text-align: right;\">\n",
       "      <th></th>\n",
       "      <th>Country</th>\n",
       "      <th>Business environment_2020_z</th>\n",
       "      <th>Business sophistication index_2020_z</th>\n",
       "      <th>Ease of getting credit_2020_z</th>\n",
       "      <th>Market sophistication index_2020_z</th>\n",
       "      <th>Business environment_2020</th>\n",
       "      <th>Business sophistication index_2020</th>\n",
       "      <th>Ease of getting credit_2020</th>\n",
       "      <th>Market sophistication index_2020</th>\n",
       "      <th>Clusters</th>\n",
       "    </tr>\n",
       "  </thead>\n",
       "  <tbody>\n",
       "    <tr>\n",
       "      <th>0</th>\n",
       "      <td>Cote d'Ivoire</td>\n",
       "      <td>0.027187</td>\n",
       "      <td>-0.777855</td>\n",
       "      <td>0.341496</td>\n",
       "      <td>-0.496051</td>\n",
       "      <td>70.8</td>\n",
       "      <td>19.7</td>\n",
       "      <td>70.0</td>\n",
       "      <td>42.6</td>\n",
       "      <td>1</td>\n",
       "    </tr>\n",
       "    <tr>\n",
       "      <th>1</th>\n",
       "      <td>Czechia</td>\n",
       "      <td>0.880275</td>\n",
       "      <td>1.123112</td>\n",
       "      <td>0.341496</td>\n",
       "      <td>0.266025</td>\n",
       "      <td>81.1</td>\n",
       "      <td>46.2</td>\n",
       "      <td>70.0</td>\n",
       "      <td>51.1</td>\n",
       "      <td>0</td>\n",
       "    </tr>\n",
       "    <tr>\n",
       "      <th>2</th>\n",
       "      <td>Egypt, Arab Rep.</td>\n",
       "      <td>-0.453193</td>\n",
       "      <td>-0.849590</td>\n",
       "      <td>0.097037</td>\n",
       "      <td>-0.791915</td>\n",
       "      <td>65.0</td>\n",
       "      <td>18.7</td>\n",
       "      <td>65.0</td>\n",
       "      <td>39.3</td>\n",
       "      <td>2</td>\n",
       "    </tr>\n",
       "    <tr>\n",
       "      <th>3</th>\n",
       "      <td>Hong Kong SAR, China</td>\n",
       "      <td>0.946534</td>\n",
       "      <td>1.065724</td>\n",
       "      <td>0.585955</td>\n",
       "      <td>3.439846</td>\n",
       "      <td>81.9</td>\n",
       "      <td>45.4</td>\n",
       "      <td>75.0</td>\n",
       "      <td>86.5</td>\n",
       "      <td>0</td>\n",
       "    </tr>\n",
       "    <tr>\n",
       "      <th>4</th>\n",
       "      <td>Iran, Islamic Rep.</td>\n",
       "      <td>-1.579601</td>\n",
       "      <td>-0.906977</td>\n",
       "      <td>-0.636340</td>\n",
       "      <td>-0.836743</td>\n",
       "      <td>51.4</td>\n",
       "      <td>17.9</td>\n",
       "      <td>50.0</td>\n",
       "      <td>38.8</td>\n",
       "      <td>2</td>\n",
       "    </tr>\n",
       "  </tbody>\n",
       "</table>\n",
       "</div>"
      ],
      "text/plain": [
       "                Country  Business environment_2020_z  \\\n",
       "0         Cote d'Ivoire                     0.027187   \n",
       "1               Czechia                     0.880275   \n",
       "2      Egypt, Arab Rep.                    -0.453193   \n",
       "3  Hong Kong SAR, China                     0.946534   \n",
       "4    Iran, Islamic Rep.                    -1.579601   \n",
       "\n",
       "   Business sophistication index_2020_z  Ease of getting credit_2020_z  \\\n",
       "0                             -0.777855                       0.341496   \n",
       "1                              1.123112                       0.341496   \n",
       "2                             -0.849590                       0.097037   \n",
       "3                              1.065724                       0.585955   \n",
       "4                             -0.906977                      -0.636340   \n",
       "\n",
       "   Market sophistication index_2020_z  Business environment_2020  \\\n",
       "0                           -0.496051                       70.8   \n",
       "1                            0.266025                       81.1   \n",
       "2                           -0.791915                       65.0   \n",
       "3                            3.439846                       81.9   \n",
       "4                           -0.836743                       51.4   \n",
       "\n",
       "   Business sophistication index_2020  Ease of getting credit_2020  \\\n",
       "0                                19.7                         70.0   \n",
       "1                                46.2                         70.0   \n",
       "2                                18.7                         65.0   \n",
       "3                                45.4                         75.0   \n",
       "4                                17.9                         50.0   \n",
       "\n",
       "   Market sophistication index_2020  Clusters  \n",
       "0                              42.6         1  \n",
       "1                              51.1         0  \n",
       "2                              39.3         2  \n",
       "3                              86.5         0  \n",
       "4                              38.8         2  "
      ]
     },
     "execution_count": 15,
     "metadata": {},
     "output_type": "execute_result"
    }
   ],
   "source": [
    "kmeans_model = KMeans(n_clusters=clusters_number).fit_predict(X) # Оставляем то количество кластеров, при котором индекс достигает максимального значения\n",
    "\n",
    "df_new['Clusters'] = kmeans_model # Добавляем колонку с принадлежностью к кластеру\n",
    "df_new.head(5)"
   ]
  },
  {
   "cell_type": "markdown",
   "metadata": {},
   "source": [
    "### Количество значений в каждом полученном кластере:"
   ]
  },
  {
   "cell_type": "code",
   "execution_count": 16,
   "metadata": {},
   "outputs": [
    {
     "data": {
      "text/html": [
       "<table border=\"1\" class=\"dataframe\">\n",
       "  <thead>\n",
       "    <tr style=\"text-align: right;\">\n",
       "      <th>Clusters</th>\n",
       "      <th>count</th>\n",
       "    </tr>\n",
       "  </thead>\n",
       "  <tbody>\n",
       "    <tr>\n",
       "      <td>1</td>\n",
       "      <td>53</td>\n",
       "    </tr>\n",
       "    <tr>\n",
       "      <td>2</td>\n",
       "      <td>44</td>\n",
       "    </tr>\n",
       "    <tr>\n",
       "      <td>0</td>\n",
       "      <td>34</td>\n",
       "    </tr>\n",
       "  </tbody>\n",
       "</table>"
      ],
      "text/plain": [
       "<IPython.core.display.HTML object>"
      ]
     },
     "metadata": {},
     "output_type": "display_data"
    }
   ],
   "source": [
    "display(HTML(df_new['Clusters'].value_counts().reset_index().to_html(index=False))) # Подсчитываем, сколько значений в каждом кластере"
   ]
  },
  {
   "cell_type": "markdown",
   "metadata": {},
   "source": [
    "### Среднее значение и медиана по каждому кластеру"
   ]
  },
  {
   "cell_type": "code",
   "execution_count": 17,
   "metadata": {},
   "outputs": [
    {
     "data": {
      "text/html": [
       "<div>\n",
       "<style scoped>\n",
       "    .dataframe tbody tr th:only-of-type {\n",
       "        vertical-align: middle;\n",
       "    }\n",
       "\n",
       "    .dataframe tbody tr th {\n",
       "        vertical-align: top;\n",
       "    }\n",
       "\n",
       "    .dataframe thead tr th {\n",
       "        text-align: left;\n",
       "    }\n",
       "\n",
       "    .dataframe thead tr:last-of-type th {\n",
       "        text-align: right;\n",
       "    }\n",
       "</style>\n",
       "<table border=\"1\" class=\"dataframe\">\n",
       "  <thead>\n",
       "    <tr>\n",
       "      <th></th>\n",
       "      <th colspan=\"2\" halign=\"left\">Business environment_2020</th>\n",
       "      <th colspan=\"2\" halign=\"left\">Business sophistication index_2020</th>\n",
       "      <th colspan=\"2\" halign=\"left\">Ease of getting credit_2020</th>\n",
       "      <th colspan=\"2\" halign=\"left\">Market sophistication index_2020</th>\n",
       "    </tr>\n",
       "    <tr>\n",
       "      <th></th>\n",
       "      <th>mean</th>\n",
       "      <th>median</th>\n",
       "      <th>mean</th>\n",
       "      <th>median</th>\n",
       "      <th>mean</th>\n",
       "      <th>median</th>\n",
       "      <th>mean</th>\n",
       "      <th>median</th>\n",
       "    </tr>\n",
       "    <tr>\n",
       "      <th>Clusters</th>\n",
       "      <th></th>\n",
       "      <th></th>\n",
       "      <th></th>\n",
       "      <th></th>\n",
       "      <th></th>\n",
       "      <th></th>\n",
       "      <th></th>\n",
       "      <th></th>\n",
       "    </tr>\n",
       "  </thead>\n",
       "  <tbody>\n",
       "    <tr>\n",
       "      <th>0</th>\n",
       "      <td>84.152941</td>\n",
       "      <td>85.90</td>\n",
       "      <td>50.197059</td>\n",
       "      <td>51.05</td>\n",
       "      <td>64.558824</td>\n",
       "      <td>65.0</td>\n",
       "      <td>60.261765</td>\n",
       "      <td>57.9</td>\n",
       "    </tr>\n",
       "    <tr>\n",
       "      <th>1</th>\n",
       "      <td>70.064151</td>\n",
       "      <td>71.50</td>\n",
       "      <td>25.060377</td>\n",
       "      <td>24.30</td>\n",
       "      <td>78.018868</td>\n",
       "      <td>80.0</td>\n",
       "      <td>48.349057</td>\n",
       "      <td>48.4</td>\n",
       "    </tr>\n",
       "    <tr>\n",
       "      <th>2</th>\n",
       "      <td>60.390909</td>\n",
       "      <td>61.65</td>\n",
       "      <td>21.961364</td>\n",
       "      <td>20.50</td>\n",
       "      <td>43.750000</td>\n",
       "      <td>45.0</td>\n",
       "      <td>38.500000</td>\n",
       "      <td>39.2</td>\n",
       "    </tr>\n",
       "  </tbody>\n",
       "</table>\n",
       "</div>"
      ],
      "text/plain": [
       "         Business environment_2020        Business sophistication index_2020  \\\n",
       "                              mean median                               mean   \n",
       "Clusters                                                                       \n",
       "0                        84.152941  85.90                          50.197059   \n",
       "1                        70.064151  71.50                          25.060377   \n",
       "2                        60.390909  61.65                          21.961364   \n",
       "\n",
       "                Ease of getting credit_2020         \\\n",
       "         median                        mean median   \n",
       "Clusters                                             \n",
       "0         51.05                   64.558824   65.0   \n",
       "1         24.30                   78.018868   80.0   \n",
       "2         20.50                   43.750000   45.0   \n",
       "\n",
       "         Market sophistication index_2020         \n",
       "                                     mean median  \n",
       "Clusters                                          \n",
       "0                               60.261765   57.9  \n",
       "1                               48.349057   48.4  \n",
       "2                               38.500000   39.2  "
      ]
     },
     "execution_count": 17,
     "metadata": {},
     "output_type": "execute_result"
    }
   ],
   "source": [
    "df_new.groupby('Clusters')[my_list].agg(['mean', 'median']) # Смотрим среднее значения по каждому кластеру"
   ]
  },
  {
   "cell_type": "markdown",
   "metadata": {},
   "source": [
    "### Вывод по описательной статистике"
   ]
  },
  {
   "cell_type": "markdown",
   "metadata": {},
   "source": [
    "Как мы видим, количество значений для каждого кластера распределилось неравномерно. В нулевой кластер попало 34 зачения, в первый кластер попало 53 значения, а во второй кластер попало 44 значения. Разница между минимальным и максимальным количеством значенией в кластерах равняется 10, что для небольшой выборки является довольно-таки существенным.\n",
    "\n",
    "По значениям среднего и медианы можно отметить следующее:\n",
    "\n",
    "<b> Кластер 0 </b> - По полученным данным мы видим, что в данном кластере наблюдаются самые высокие средние и медианные значения по всем рассматрвиаемым показателям, за исключением легкости получения кредита.\n",
    "\n",
    "<b> Кластер 1 </b> - Все рассматриваемые средние и медианные показатели ниже, чем у нулевого кластера, однакого среднее и медиана по легкости получения кредита в данном кластере выше, чем в предыдущем.\n",
    "\n",
    "<b> Кластер 2 </b> - В данном кластере все показатели имеют самые низкие значения среднего и медианы."
   ]
  },
  {
   "cell_type": "markdown",
   "metadata": {},
   "source": [
    "## 3. Дайте названия кластерам и обоснуйте их."
   ]
  },
  {
   "cell_type": "markdown",
   "metadata": {},
   "source": [
    "<b> Кластер 0: Лидирующие инноваторы. </b>\n",
    "Данный кластер объединяет страны с высокими показателями по всем категориям, демонстрирующие лидерство в инновациях и бизнес-среде, что свидетельствует о высоком уровне экономического и инновационного развития. Например, ОАЭ, Китай, Испания, Канада и другие.\n",
    "\n",
    "<b> Кластер 1: Стремящиеся инноваторы. </b>\n",
    "Страны данного кластера демонстрируют средние показатели, но выделяется один высокий показатель в легкости получении кредитов, указывающий на их стремление к улучшению инновационного потенциала. Страны данного кластера, вероятно, активно развивают свои инновационные способности, но пока не достигли уровня нулевого кластера. Например, Россия, Турция, Грузия, Мексика и другие.\n",
    "\n",
    "<b> Кластер 2: Начинающие инноваторы. </b>\n",
    "В данном кластере находятся страны с начальными показателями инновационной деятельности, которые активно развиваются, но в настоящее время находятся на ранних этапах развития. Рассматриваемый кластер включает страны с низким уровнем развития в области бизнеса и инноваций. Например, Тунис, Оман, Беларусь, Аргентина и другие."
   ]
  },
  {
   "cell_type": "markdown",
   "metadata": {},
   "source": [
    "## 4. Почему получилась именно такая кластерная структура? Полученные результаты соответствуют вашем изначальным предположениям или оказались неожиданными?"
   ]
  },
  {
   "cell_type": "markdown",
   "metadata": {},
   "source": [
    "Изначально мы предполагали, что  на основе показателей, используемых в Глобальном инновационном индексе (таких как бизнес-среда, индекс развития бизнеса, простота получения кредита и индекс развития рынка), страны разделятся на следующие кластеры:\n",
    "\n",
    "<b> 1) Страны-лидеры. </b> Данные страны обычно имеют высокие показатели по всем четырем категориям. Они предоставляют благоприятные условия для ведения бизнеса, легко получают кредиты и обладают высокоразвитыми рынками. К таким странам можно отнести США, Швейцарию, Германию и другие.\n",
    "\n",
    "<b> 2) Развивающиеся страны с сильными бизнес системами и кредитными системами. </b> Страны данного кластера, по нашему мнению, должны иметь хорошие показатели в области деловой среды и легкости получения кредитов, но у них может быть ниже индекс сложности бизнеса или индекс сложности рынка. К таким странам мы отнесли Индию и Мексику.\n",
    "\n",
    "<b> 3) Развивающиеся страны с менее развитым рынком и бизнесом. </b> Группа стран, относящихся к текущему кластеру, по нашему мнению, может сталкиваться с трудностями при получении кредитов и иметь менее развитую рыночную инфраструктуру, чем предыдущие кластеры, но при этом обладают потенциалом для роста в сфере инноваций и бизнес-экосистем. Например, страны Юго-Восточной Азии, Латинской Америки и Африки.\n",
    "\n",
    "<b> 4) Отстающие страны. </b> Мы предполагали, что в данный кластер можно отнести страны, которые находятся на начальных этапах экономического развития и по всем анализируемым критериям будут иметь низкие значения. Например, некоторые страны Африки или малые островные государства.\n",
    "\n",
    "\n",
    "Полученные результаты кластеризации методом к-средних оказались схожи с теми кластерами, которые мы изначально предполагали. Страны, которые относятся к кажому кластеру, также совпали:\n",
    "\n",
    "<b> Кластер 0 - Лидирующие инноваторы = Предполагаемый кластер \"Страны-лидеры\". </b>\n",
    "Данный кластер объединяет страны с высокими показателями по всем рассмотренным критериям.\n",
    "Мы отнесли в данный кластер США, Швейцарию, Германию. На основании полученных результатов кластеризации все предполагаемые нами страны оказались в этом кластере.\n",
    "\n",
    "<b> Кластер 1 - Стремящиеся инноваторы = Предполагаемый кластер \"Развивающиеся страны с сильными бизнес системами и кредитными системами\". </b>\n",
    "Страны даннного кластера активно развиваваются, но в настоящий момент их экономического развития не могут быть отнесены в кластер Инновационных лидеров.\n",
    "Мы отнесли в данный кластер Индию и Мексику. На основании полученных результатов кластеризации все предполагаемые нами страны оказались в этом кластере.\n",
    "\n",
    "<b> Кластер 2 - Начинающие инноваторы = Предполагаемый кластер \"Отстающие страны\". </b>\n",
    "Данный кластер включает страны с низким уровнем развития в области бизнеса и инноваций.\n",
    "Мы отнесли в данный кластер некоторые страны Африки или островные государства, и некоторые из этих стран, на основании проведенной кластеризации, также оказались в этом кластере, например, Египет, Йемен, Нигерия и др. \n"
   ]
  }
 ],
 "metadata": {
  "kernelspec": {
   "display_name": "Python 3 (ipykernel)",
   "language": "python",
   "name": "python3"
  },
  "language_info": {
   "codemirror_mode": {
    "name": "ipython",
    "version": 3
   },
   "file_extension": ".py",
   "mimetype": "text/x-python",
   "name": "python",
   "nbconvert_exporter": "python",
   "pygments_lexer": "ipython3",
   "version": "3.11.9"
  }
 },
 "nbformat": 4,
 "nbformat_minor": 4
}
