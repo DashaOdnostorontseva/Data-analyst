{
 "cells": [
  {
   "cell_type": "markdown",
   "metadata": {},
   "source": [
    "Описание переменных:\n",
    "\n",
    "    Зависимая переменная:\n",
    "    burnout: выгорание на работе.\n",
    "\n",
    "    Независимые переменные:\n",
    "    loc: ощущаемый контроль (чем больше значение, тем меньше ощущение контроля над ситуацией)\n",
    "    \n",
    "    cope: способность справляться со сложностями (чем больше значение, тем меньше способность)\n",
    "\n",
    "    teaching: стресс от преподавания (чем выше значение, тем выше уровень стресса)\n",
    "\n",
    "    research: стресс от проведения исследований (чем выше значение, тем выше уровень стресса)\n",
    "\n",
    "    pastoral: стресс от бескорыстной помощи коллегам и студентам (чем выше значение, тем выше уровень стресса)\n",
    "\n",
    "    gender: пол (мужской, женский)\n",
    "\n",
    "    degree: наличие ученой степени (phd – кандидат наук, mba - мастер делового администрирования, ms – магистр)\n",
    "\n",
    "Метрические переменные измерены по шкале от 0 до 100"
   ]
  },
  {
   "cell_type": "code",
   "execution_count": 3,
   "metadata": {},
   "outputs": [
    {
     "name": "stderr",
     "output_type": "stream",
     "text": [
      "/tmp/ipykernel_215425/3253664417.py:1: DeprecationWarning: \n",
      "Pyarrow will become a required dependency of pandas in the next major release of pandas (pandas 3.0),\n",
      "(to allow more performant data types, such as the Arrow string type, and better interoperability with other libraries)\n",
      "but was not found to be installed on your system.\n",
      "If this would cause problems for you,\n",
      "please provide us feedback at https://github.com/pandas-dev/pandas/issues/54466\n",
      "        \n",
      "  import pandas as pd\n"
     ]
    }
   ],
   "source": [
    "import pandas as pd\n",
    "import seaborn as sns\n",
    "import matplotlib.pyplot as plt\n",
    "from scipy import stats \n",
    "import numpy as np\n",
    "import statsmodels.api as sm\n",
    "from statsmodels.stats.outliers_influence import variance_inflation_factor as vif\n",
    "from sklearn.metrics import roc_curve, auc\n",
    "import warnings\n",
    "warnings.filterwarnings('ignore')"
   ]
  },
  {
   "cell_type": "code",
   "execution_count": 4,
   "metadata": {},
   "outputs": [
    {
     "data": {
      "text/html": [
       "<div>\n",
       "<style scoped>\n",
       "    .dataframe tbody tr th:only-of-type {\n",
       "        vertical-align: middle;\n",
       "    }\n",
       "\n",
       "    .dataframe tbody tr th {\n",
       "        vertical-align: top;\n",
       "    }\n",
       "\n",
       "    .dataframe thead th {\n",
       "        text-align: right;\n",
       "    }\n",
       "</style>\n",
       "<table border=\"1\" class=\"dataframe\">\n",
       "  <thead>\n",
       "    <tr style=\"text-align: right;\">\n",
       "      <th></th>\n",
       "      <th>burnout</th>\n",
       "      <th>loc</th>\n",
       "      <th>cope</th>\n",
       "      <th>teaching</th>\n",
       "      <th>research</th>\n",
       "      <th>pastoral</th>\n",
       "      <th>gender</th>\n",
       "      <th>degree</th>\n",
       "    </tr>\n",
       "  </thead>\n",
       "  <tbody>\n",
       "    <tr>\n",
       "      <th>0</th>\n",
       "      <td>Burnt Out</td>\n",
       "      <td>61.764706</td>\n",
       "      <td>81.679389</td>\n",
       "      <td>94.545455</td>\n",
       "      <td>81.250000</td>\n",
       "      <td>96.296296</td>\n",
       "      <td>male</td>\n",
       "      <td>mba</td>\n",
       "    </tr>\n",
       "    <tr>\n",
       "      <th>1</th>\n",
       "      <td>Burnt Out</td>\n",
       "      <td>42.941176</td>\n",
       "      <td>39.694656</td>\n",
       "      <td>94.545455</td>\n",
       "      <td>60.416667</td>\n",
       "      <td>87.037037</td>\n",
       "      <td>male</td>\n",
       "      <td>mba</td>\n",
       "    </tr>\n",
       "    <tr>\n",
       "      <th>2</th>\n",
       "      <td>Burnt Out</td>\n",
       "      <td>22.352941</td>\n",
       "      <td>17.557252</td>\n",
       "      <td>63.636364</td>\n",
       "      <td>64.583333</td>\n",
       "      <td>68.518519</td>\n",
       "      <td>male</td>\n",
       "      <td>mba</td>\n",
       "    </tr>\n",
       "    <tr>\n",
       "      <th>3</th>\n",
       "      <td>Burnt Out</td>\n",
       "      <td>13.529412</td>\n",
       "      <td>25.190840</td>\n",
       "      <td>60.000000</td>\n",
       "      <td>62.500000</td>\n",
       "      <td>66.666667</td>\n",
       "      <td>male</td>\n",
       "      <td>mba</td>\n",
       "    </tr>\n",
       "    <tr>\n",
       "      <th>4</th>\n",
       "      <td>Burnt Out</td>\n",
       "      <td>38.235294</td>\n",
       "      <td>34.351145</td>\n",
       "      <td>61.818182</td>\n",
       "      <td>68.750000</td>\n",
       "      <td>61.111111</td>\n",
       "      <td>male</td>\n",
       "      <td>mba</td>\n",
       "    </tr>\n",
       "  </tbody>\n",
       "</table>\n",
       "</div>"
      ],
      "text/plain": [
       "     burnout        loc       cope   teaching   research   pastoral gender  \\\n",
       "0  Burnt Out  61.764706  81.679389  94.545455  81.250000  96.296296   male   \n",
       "1  Burnt Out  42.941176  39.694656  94.545455  60.416667  87.037037   male   \n",
       "2  Burnt Out  22.352941  17.557252  63.636364  64.583333  68.518519   male   \n",
       "3  Burnt Out  13.529412  25.190840  60.000000  62.500000  66.666667   male   \n",
       "4  Burnt Out  38.235294  34.351145  61.818182  68.750000  61.111111   male   \n",
       "\n",
       "  degree  \n",
       "0    mba  \n",
       "1    mba  \n",
       "2    mba  \n",
       "3    mba  \n",
       "4    mba  "
      ]
     },
     "execution_count": 4,
     "metadata": {},
     "output_type": "execute_result"
    }
   ],
   "source": [
    "df = pd.read_excel('/media/daria/Windows/Users/daria/Downloads/burnout.xlsx')\n",
    "df.head()"
   ]
  },
  {
   "cell_type": "code",
   "execution_count": 3,
   "metadata": {},
   "outputs": [
    {
     "name": "stdout",
     "output_type": "stream",
     "text": [
      "<class 'pandas.core.frame.DataFrame'>\n",
      "RangeIndex: 467 entries, 0 to 466\n",
      "Data columns (total 8 columns):\n",
      " #   Column    Non-Null Count  Dtype  \n",
      "---  ------    --------------  -----  \n",
      " 0   burnout   467 non-null    object \n",
      " 1   loc       467 non-null    float64\n",
      " 2   cope      467 non-null    float64\n",
      " 3   teaching  467 non-null    float64\n",
      " 4   research  467 non-null    float64\n",
      " 5   pastoral  467 non-null    float64\n",
      " 6   gender    467 non-null    object \n",
      " 7   degree    467 non-null    object \n",
      "dtypes: float64(5), object(3)\n",
      "memory usage: 29.3+ KB\n"
     ]
    }
   ],
   "source": [
    "df.info()"
   ]
  },
  {
   "cell_type": "markdown",
   "metadata": {},
   "source": [
    "Как мы видим, в нашем датасете нет пропущенных значений, что не требует дополнительной работы с ним."
   ]
  },
  {
   "cell_type": "code",
   "execution_count": 15,
   "metadata": {},
   "outputs": [
    {
     "name": "stdout",
     "output_type": "stream",
     "text": [
      "Type: object\n",
      "['burnout' 'gender' 'degree']\n",
      "\n",
      "Type: float64\n",
      "['loc' 'cope' 'teaching' 'research' 'pastoral']\n",
      "\n"
     ]
    }
   ],
   "source": [
    "# Названия переменных, сгруппированные по типам данных\n",
    "for t in df.dtypes.unique():\n",
    "     print('Type: {}\\n{}\\n'.format(t, df.dtypes[df.dtypes==t].index.values))"
   ]
  },
  {
   "cell_type": "markdown",
   "metadata": {},
   "source": [
    "Соответственно, из переменных gender и degree нужно будет сделать dummie-переменные, а переменную burnout перевести в буль, для использования бинарной регрессии"
   ]
  },
  {
   "cell_type": "code",
   "execution_count": 5,
   "metadata": {},
   "outputs": [
    {
     "data": {
      "text/plain": [
       "burnout\n",
       "Not Burnt Out    348\n",
       "Burnt Out        119\n",
       "Name: count, dtype: int64"
      ]
     },
     "execution_count": 5,
     "metadata": {},
     "output_type": "execute_result"
    }
   ],
   "source": [
    "df['burnout'].value_counts()"
   ]
  },
  {
   "cell_type": "markdown",
   "metadata": {},
   "source": [
    "По полученному количеству значений мы видим, что группы являются наполненными, и такую переменную можно использовать в качестве зависимой переменной"
   ]
  },
  {
   "cell_type": "markdown",
   "metadata": {},
   "source": [
    "Зададим наличие выгорания как единицу, а отсуствие выгорания как ноль."
   ]
  },
  {
   "cell_type": "code",
   "execution_count": 6,
   "metadata": {},
   "outputs": [],
   "source": [
    "map_dict = {'Burnt Out' : 1,\n",
    "            'Not Burnt Out' : 0}\n",
    " \n",
    "df['burnout'] = df['burnout'].map(map_dict)"
   ]
  },
  {
   "cell_type": "markdown",
   "metadata": {},
   "source": [
    "Создадим дамми-переменные для degree и gender"
   ]
  },
  {
   "cell_type": "code",
   "execution_count": 7,
   "metadata": {},
   "outputs": [],
   "source": [
    "degree_dummies = pd.get_dummies(df[\"degree\"], prefix='degree', prefix_sep='_', dtype=int)\n",
    "gender_dummies = pd.get_dummies(df[\"gender\"], prefix='gender', prefix_sep='_', dtype=int)"
   ]
  },
  {
   "cell_type": "markdown",
   "metadata": {},
   "source": [
    "Добавим дамми-переменные в наш датасет"
   ]
  },
  {
   "cell_type": "code",
   "execution_count": 8,
   "metadata": {},
   "outputs": [
    {
     "data": {
      "text/html": [
       "<div>\n",
       "<style scoped>\n",
       "    .dataframe tbody tr th:only-of-type {\n",
       "        vertical-align: middle;\n",
       "    }\n",
       "\n",
       "    .dataframe tbody tr th {\n",
       "        vertical-align: top;\n",
       "    }\n",
       "\n",
       "    .dataframe thead th {\n",
       "        text-align: right;\n",
       "    }\n",
       "</style>\n",
       "<table border=\"1\" class=\"dataframe\">\n",
       "  <thead>\n",
       "    <tr style=\"text-align: right;\">\n",
       "      <th></th>\n",
       "      <th>burnout</th>\n",
       "      <th>loc</th>\n",
       "      <th>cope</th>\n",
       "      <th>teaching</th>\n",
       "      <th>research</th>\n",
       "      <th>pastoral</th>\n",
       "      <th>gender</th>\n",
       "      <th>degree</th>\n",
       "      <th>degree_mba</th>\n",
       "      <th>degree_ms</th>\n",
       "      <th>degree_phd</th>\n",
       "      <th>gender_female</th>\n",
       "      <th>gender_male</th>\n",
       "    </tr>\n",
       "  </thead>\n",
       "  <tbody>\n",
       "    <tr>\n",
       "      <th>0</th>\n",
       "      <td>1</td>\n",
       "      <td>61.764706</td>\n",
       "      <td>81.679389</td>\n",
       "      <td>94.545455</td>\n",
       "      <td>81.250000</td>\n",
       "      <td>96.296296</td>\n",
       "      <td>male</td>\n",
       "      <td>mba</td>\n",
       "      <td>1</td>\n",
       "      <td>0</td>\n",
       "      <td>0</td>\n",
       "      <td>0</td>\n",
       "      <td>1</td>\n",
       "    </tr>\n",
       "    <tr>\n",
       "      <th>1</th>\n",
       "      <td>1</td>\n",
       "      <td>42.941176</td>\n",
       "      <td>39.694656</td>\n",
       "      <td>94.545455</td>\n",
       "      <td>60.416667</td>\n",
       "      <td>87.037037</td>\n",
       "      <td>male</td>\n",
       "      <td>mba</td>\n",
       "      <td>1</td>\n",
       "      <td>0</td>\n",
       "      <td>0</td>\n",
       "      <td>0</td>\n",
       "      <td>1</td>\n",
       "    </tr>\n",
       "    <tr>\n",
       "      <th>2</th>\n",
       "      <td>1</td>\n",
       "      <td>22.352941</td>\n",
       "      <td>17.557252</td>\n",
       "      <td>63.636364</td>\n",
       "      <td>64.583333</td>\n",
       "      <td>68.518519</td>\n",
       "      <td>male</td>\n",
       "      <td>mba</td>\n",
       "      <td>1</td>\n",
       "      <td>0</td>\n",
       "      <td>0</td>\n",
       "      <td>0</td>\n",
       "      <td>1</td>\n",
       "    </tr>\n",
       "    <tr>\n",
       "      <th>3</th>\n",
       "      <td>1</td>\n",
       "      <td>13.529412</td>\n",
       "      <td>25.190840</td>\n",
       "      <td>60.000000</td>\n",
       "      <td>62.500000</td>\n",
       "      <td>66.666667</td>\n",
       "      <td>male</td>\n",
       "      <td>mba</td>\n",
       "      <td>1</td>\n",
       "      <td>0</td>\n",
       "      <td>0</td>\n",
       "      <td>0</td>\n",
       "      <td>1</td>\n",
       "    </tr>\n",
       "    <tr>\n",
       "      <th>4</th>\n",
       "      <td>1</td>\n",
       "      <td>38.235294</td>\n",
       "      <td>34.351145</td>\n",
       "      <td>61.818182</td>\n",
       "      <td>68.750000</td>\n",
       "      <td>61.111111</td>\n",
       "      <td>male</td>\n",
       "      <td>mba</td>\n",
       "      <td>1</td>\n",
       "      <td>0</td>\n",
       "      <td>0</td>\n",
       "      <td>0</td>\n",
       "      <td>1</td>\n",
       "    </tr>\n",
       "    <tr>\n",
       "      <th>...</th>\n",
       "      <td>...</td>\n",
       "      <td>...</td>\n",
       "      <td>...</td>\n",
       "      <td>...</td>\n",
       "      <td>...</td>\n",
       "      <td>...</td>\n",
       "      <td>...</td>\n",
       "      <td>...</td>\n",
       "      <td>...</td>\n",
       "      <td>...</td>\n",
       "      <td>...</td>\n",
       "      <td>...</td>\n",
       "      <td>...</td>\n",
       "    </tr>\n",
       "    <tr>\n",
       "      <th>462</th>\n",
       "      <td>0</td>\n",
       "      <td>7.647059</td>\n",
       "      <td>17.557252</td>\n",
       "      <td>45.454545</td>\n",
       "      <td>47.916667</td>\n",
       "      <td>33.333333</td>\n",
       "      <td>female</td>\n",
       "      <td>phd</td>\n",
       "      <td>0</td>\n",
       "      <td>0</td>\n",
       "      <td>1</td>\n",
       "      <td>1</td>\n",
       "      <td>0</td>\n",
       "    </tr>\n",
       "    <tr>\n",
       "      <th>463</th>\n",
       "      <td>0</td>\n",
       "      <td>6.470588</td>\n",
       "      <td>10.687023</td>\n",
       "      <td>27.272727</td>\n",
       "      <td>56.250000</td>\n",
       "      <td>31.481481</td>\n",
       "      <td>female</td>\n",
       "      <td>phd</td>\n",
       "      <td>0</td>\n",
       "      <td>0</td>\n",
       "      <td>1</td>\n",
       "      <td>1</td>\n",
       "      <td>0</td>\n",
       "    </tr>\n",
       "    <tr>\n",
       "      <th>464</th>\n",
       "      <td>0</td>\n",
       "      <td>55.882353</td>\n",
       "      <td>24.427481</td>\n",
       "      <td>69.090909</td>\n",
       "      <td>64.583333</td>\n",
       "      <td>29.629630</td>\n",
       "      <td>female</td>\n",
       "      <td>phd</td>\n",
       "      <td>0</td>\n",
       "      <td>0</td>\n",
       "      <td>1</td>\n",
       "      <td>1</td>\n",
       "      <td>0</td>\n",
       "    </tr>\n",
       "    <tr>\n",
       "      <th>465</th>\n",
       "      <td>0</td>\n",
       "      <td>7.647059</td>\n",
       "      <td>13.740458</td>\n",
       "      <td>34.545455</td>\n",
       "      <td>79.166667</td>\n",
       "      <td>24.074074</td>\n",
       "      <td>female</td>\n",
       "      <td>phd</td>\n",
       "      <td>0</td>\n",
       "      <td>0</td>\n",
       "      <td>1</td>\n",
       "      <td>1</td>\n",
       "      <td>0</td>\n",
       "    </tr>\n",
       "    <tr>\n",
       "      <th>466</th>\n",
       "      <td>0</td>\n",
       "      <td>14.117647</td>\n",
       "      <td>7.633588</td>\n",
       "      <td>21.818182</td>\n",
       "      <td>68.750000</td>\n",
       "      <td>24.074074</td>\n",
       "      <td>female</td>\n",
       "      <td>phd</td>\n",
       "      <td>0</td>\n",
       "      <td>0</td>\n",
       "      <td>1</td>\n",
       "      <td>1</td>\n",
       "      <td>0</td>\n",
       "    </tr>\n",
       "  </tbody>\n",
       "</table>\n",
       "<p>467 rows × 13 columns</p>\n",
       "</div>"
      ],
      "text/plain": [
       "     burnout        loc       cope   teaching   research   pastoral  gender  \\\n",
       "0          1  61.764706  81.679389  94.545455  81.250000  96.296296    male   \n",
       "1          1  42.941176  39.694656  94.545455  60.416667  87.037037    male   \n",
       "2          1  22.352941  17.557252  63.636364  64.583333  68.518519    male   \n",
       "3          1  13.529412  25.190840  60.000000  62.500000  66.666667    male   \n",
       "4          1  38.235294  34.351145  61.818182  68.750000  61.111111    male   \n",
       "..       ...        ...        ...        ...        ...        ...     ...   \n",
       "462        0   7.647059  17.557252  45.454545  47.916667  33.333333  female   \n",
       "463        0   6.470588  10.687023  27.272727  56.250000  31.481481  female   \n",
       "464        0  55.882353  24.427481  69.090909  64.583333  29.629630  female   \n",
       "465        0   7.647059  13.740458  34.545455  79.166667  24.074074  female   \n",
       "466        0  14.117647   7.633588  21.818182  68.750000  24.074074  female   \n",
       "\n",
       "    degree  degree_mba  degree_ms  degree_phd  gender_female  gender_male  \n",
       "0      mba           1          0           0              0            1  \n",
       "1      mba           1          0           0              0            1  \n",
       "2      mba           1          0           0              0            1  \n",
       "3      mba           1          0           0              0            1  \n",
       "4      mba           1          0           0              0            1  \n",
       "..     ...         ...        ...         ...            ...          ...  \n",
       "462    phd           0          0           1              1            0  \n",
       "463    phd           0          0           1              1            0  \n",
       "464    phd           0          0           1              1            0  \n",
       "465    phd           0          0           1              1            0  \n",
       "466    phd           0          0           1              1            0  \n",
       "\n",
       "[467 rows x 13 columns]"
      ]
     },
     "execution_count": 8,
     "metadata": {},
     "output_type": "execute_result"
    }
   ],
   "source": [
    "df = pd.concat([df, degree_dummies, gender_dummies], axis=1) \n",
    "df"
   ]
  },
  {
   "cell_type": "code",
   "execution_count": 6,
   "metadata": {},
   "outputs": [
    {
     "data": {
      "text/plain": [
       "Index(['burnout', 'loc', 'cope', 'teaching', 'research', 'pastoral', 'gender',\n",
       "       'degree', 'degree_mba', 'degree_ms', 'degree_phd', 'gender_female',\n",
       "       'gender_male'],\n",
       "      dtype='object')"
      ]
     },
     "execution_count": 6,
     "metadata": {},
     "output_type": "execute_result"
    }
   ],
   "source": [
    "df.columns"
   ]
  },
  {
   "cell_type": "code",
   "execution_count": 9,
   "metadata": {},
   "outputs": [
    {
     "data": {
      "text/plain": [
       "<Axes: xlabel='burnout'>"
      ]
     },
     "execution_count": 9,
     "metadata": {},
     "output_type": "execute_result"
    },
    {
     "data": {
      "image/png": "[encoded data removed]",
      "text/plain": [
       "<Figure size 640x480 with 1 Axes>"
      ]
     },
     "metadata": {},
     "output_type": "display_data"
    }
   ],
   "source": [
    "ct = pd.crosstab(df[\"burnout\"], df[\"degree\"])\n",
    "ct.plot.bar()"
   ]
  },
  {
   "cell_type": "markdown",
   "metadata": {},
   "source": [
    "### <b> Столбиковая диаграмма burnout-degree показывает распределение выгорания (burnout) в зависимости от ученой степени (degree): MBA, MS, и PhD </b>\n",
    "#### На данной диаграмме мы видим, что в каждой группе есть представленность из каждого класса, а значит переменную degree можно добавить в качестве предиктора (Если бы у нас были значения только бы из одного класса, тогда не было бы смысла выбираеть ее предиктором, так как модель однозначно определяла бы результат по этому классу). \n",
    "#### Также мы видим, что в выборке больше всего людей имеют степень образования PhD, и среди них наблюдается значительное количество тех, у кого нет выгорания (значение 0). Также среди обладателей PhD наблюдается наибольшее количество случаев выгорания (значение 1), что может указывать на некоторую \"предрасположенность к выгоранию\" в этой группе.\n"
   ]
  },
  {
   "cell_type": "code",
   "execution_count": 10,
   "metadata": {},
   "outputs": [
    {
     "data": {
      "text/plain": [
       "<Axes: xlabel='burnout'>"
      ]
     },
     "execution_count": 10,
     "metadata": {},
     "output_type": "execute_result"
    },
    {
     "data": {
      "image/png": "[encoded data removed]",
      "text/plain": [
       "<Figure size 640x480 with 1 Axes>"
      ]
     },
     "metadata": {},
     "output_type": "display_data"
    }
   ],
   "source": [
    "ct = pd.crosstab(df[\"burnout\"], df[\"gender\"])\n",
    "ct.plot.bar()"
   ]
  },
  {
   "cell_type": "markdown",
   "metadata": {},
   "source": [
    "### <b> Столбиковая диаграмма burnout-gender показывает распределение выгорания (burnout) среди мужчин и женщин </b>\n",
    "#### На данной диаграмме мы видим, что в каждой группе есть представленность из каждого класса, а значит переменную gender можно добавить в качестве предиктора (Если бы у нас были значения только бы из одного класса, тогда не было бы смысла выбираеть ее предиктором, так как модель однозначно определяла бы результат по этому классу). \n",
    "#### Так же мы видим, что среди и мужчин и женщи больше представителей без выгорания (burnout 0).\n",
    "#### Также можно обратить внимание на количество записей в каждой группе. Разница в количестве случаев выгорания между мужчинами и женщинами небольшая, но среди женщин их чуть больше. Учитывая близкие пропорции, пол может не быть значимым предиктором для прогнозирования выгорания."
   ]
  },
  {
   "cell_type": "code",
   "execution_count": 11,
   "metadata": {},
   "outputs": [
    {
     "data": {
      "image/png": "[encoded data removed]",
      "text/plain": [
       "<Figure size 800x500 with 1 Axes>"
      ]
     },
     "metadata": {},
     "output_type": "display_data"
    }
   ],
   "source": [
    "plt.figure(figsize=(8,5))\n",
    "plt.title('loc vs. burnout', fontsize=16)\n",
    "plt.scatter(x=df[\"loc\"], y=df[\"burnout\"], color='blue',edgecolor='k')\n",
    "plt.grid(True)\n",
    "plt.xlabel(\"loc\", fontsize=14)\n",
    "plt.ylabel('burnout', fontsize=14)\n",
    "plt.show()"
   ]
  },
  {
   "cell_type": "markdown",
   "metadata": {},
   "source": [
    "### <b> Точечная диаграмма loc-burnout показывает распределение выгорания и ощущаемого котроля </b>\n",
    "#### По данной диаграмме можно сказать, что прямой взамосвязи между переменной loc и burnout не наблюдается. Так как burnout является бинарной переменной, можно было предположить, что при увеличении значений loc вероятность выгорания будет меняться, однако на графике четкой тенденции не видно.\n",
    "#### Стоит отметить, что основное сосредоточение значений loc находится в диапазоне от 0 до 40, при этом у выгорания наблюдаются как значения 0, так и 1."
   ]
  },
  {
   "cell_type": "code",
   "execution_count": 12,
   "metadata": {},
   "outputs": [
    {
     "data": {
      "image/png": "[encoded data removed]",
      "text/plain": [
       "<Figure size 800x500 with 1 Axes>"
      ]
     },
     "metadata": {},
     "output_type": "display_data"
    }
   ],
   "source": [
    "plt.figure(figsize=(8,5))\n",
    "plt.title('cope vs. burnout', fontsize=16)\n",
    "plt.scatter(x=df[\"cope\"], y=df[\"burnout\"], color='blue',edgecolor='k')\n",
    "plt.grid(True)\n",
    "plt.xlabel(\"cope\", fontsize=14)\n",
    "plt.ylabel('burnout', fontsize=14)\n",
    "plt.show()"
   ]
  },
  {
   "cell_type": "markdown",
   "metadata": {},
   "source": [
    "### <b> Точечная диаграмма cope-burnout показывает распределение выгорания и способности справляться со сложностями </b>\n",
    "#### По данной диаграмме можно сказать, что прямой взамосвязи между переменной cope и burnout не наблюдается. Так как burnout является бинарной переменной, можно было предположить, что при увеличении значений cope вероятность выгорания будет меняться, однако на графике четкой тенденции не видно.\n",
    "#### Стоит отметить, что основное сосредоточение значений cope находится в диапазоне от 0 до 60, при этом у выгорания наблюдаются как значения 0, так и 1."
   ]
  },
  {
   "cell_type": "code",
   "execution_count": 13,
   "metadata": {},
   "outputs": [
    {
     "data": {
      "image/png": "[encoded data removed]",
      "text/plain": [
       "<Figure size 800x500 with 1 Axes>"
      ]
     },
     "metadata": {},
     "output_type": "display_data"
    }
   ],
   "source": [
    "plt.figure(figsize=(8,5))\n",
    "plt.title('teaching vs. burnout', fontsize=16)\n",
    "plt.scatter(x=df[\"teaching\"], y=df[\"burnout\"], color='blue',edgecolor='k')\n",
    "plt.grid(True)\n",
    "plt.xlabel(\"teaching\", fontsize=14)\n",
    "plt.ylabel('burnout', fontsize=14)\n",
    "plt.show()"
   ]
  },
  {
   "cell_type": "markdown",
   "metadata": {},
   "source": [
    "### <b> Точечная диаграмма burnout-teaching показывает распределение выгорания и стресса от преподавания </b>\n",
    "#### По данной диаграмме можно сказать, что прямой взамосвязи между переменной teaching и burnout не наблюдается. Так как burnout является бинарной переменной, можно было предположить, что при увеличении значений teaching вероятность выгорания будет меняться, однако на графике четкой тенденции не видно.\n",
    "#### Стоит отметить, что сосредоточения значений teaching в какой-то конкретной области не наблюдается, значения находятся во всем рассматриваемом диапазоне."
   ]
  },
  {
   "cell_type": "code",
   "execution_count": 14,
   "metadata": {},
   "outputs": [
    {
     "data": {
      "image/png": "[encoded data removed]",
      "text/plain": [
       "<Figure size 800x500 with 1 Axes>"
      ]
     },
     "metadata": {},
     "output_type": "display_data"
    }
   ],
   "source": [
    "plt.figure(figsize=(8,5))\n",
    "plt.title('research vs. burnout', fontsize=16)\n",
    "plt.scatter(x=df[\"research\"], y=df[\"burnout\"], color='blue',edgecolor='k')\n",
    "plt.grid(True)\n",
    "plt.xlabel(\"research\", fontsize=14)\n",
    "plt.ylabel('burnout', fontsize=14)\n",
    "plt.show()"
   ]
  },
  {
   "cell_type": "markdown",
   "metadata": {},
   "source": [
    "### <b> Точечная диаграмма burnout-research показывает распределение выгорания и стресса от проведения исследований </b>\n",
    "#### По данной диаграмме можно сказать, что прямой взамосвязи между переменной research и burnout не наблюдается. Так как burnout является бинарной переменной, можно было предположить, что при увеличении значений research вероятность выгорания будет меняться, однако на графике четкой тенденции не видно.\n",
    "#### Стоит отметить, что сосредоточения значений research в какой-то конкретной области не наблюдается, значения находятся во всем рассматриваемом диапазоне."
   ]
  },
  {
   "cell_type": "code",
   "execution_count": 15,
   "metadata": {},
   "outputs": [
    {
     "data": {
      "image/png": "[encoded data removed]",
      "text/plain": [
       "<Figure size 800x500 with 1 Axes>"
      ]
     },
     "metadata": {},
     "output_type": "display_data"
    }
   ],
   "source": [
    "plt.figure(figsize=(8,5))\n",
    "plt.title('pastoral vs. burnout', fontsize=16)\n",
    "plt.scatter(x=df[\"pastoral\"], y=df[\"burnout\"], color='blue',edgecolor='k')\n",
    "plt.grid(True)\n",
    "plt.xlabel(\"pastoral\", fontsize=14)\n",
    "plt.ylabel('burnout', fontsize=14)\n",
    "plt.show()"
   ]
  },
  {
   "cell_type": "markdown",
   "metadata": {},
   "source": [
    "### <b> Точечная диаграмма burnout-pastoral показывает распределение выгорания и стресса от бескорыстной помощи коллегам и студентам</b>\n",
    "#### По данной диаграмме можно сказать, что прямой взамосвязи между переменной pastoral и burnout не наблюдается. Так как burnout является бинарной переменной, можно было предположить, что при увеличении значений pastoral вероятность выгорания будет меняться, однако на графике четкой тенденции не видно.\n",
    "#### Стоит отметить, что сосредоточения значений pastoral в какой-то конкретной области не наблюдается, значения находятся во всем рассматриваемом диапазоне."
   ]
  },
  {
   "cell_type": "markdown",
   "metadata": {},
   "source": [
    "### Обобщая выводы по рассмотренным диаграммам можно сказать, что четких визуальных зависимостей между таргетной переменной и предикторами не наблюдается, а значит, можно построить модель, используя все рассмотренные предикторы."
   ]
  },
  {
   "cell_type": "markdown",
   "metadata": {},
   "source": [
    "В качестве референтных групп возьмем degree_mba и gender_male"
   ]
  },
  {
   "cell_type": "code",
   "execution_count": 9,
   "metadata": {},
   "outputs": [],
   "source": [
    "x_mult_with_current_values = df[['loc', 'cope', 'teaching', 'research', 'pastoral', #current\n",
    "                                 'degree_ms', 'degree_phd', 'gender_female']] #dummie\n",
    "y_with_current_values = df['burnout']\n",
    "x_mult_with_current_values_constant = sm.add_constant(x_mult_with_current_values)\n"
   ]
  },
  {
   "cell_type": "markdown",
   "metadata": {},
   "source": [
    "### Сформулированные гипотезы исследования:\n",
    "#### 1) Предиктор loc влияет на наличие выгорания у респондента; \n",
    "#### 2) Предиктор cope влияет на наличие выгорания у респондента; \n",
    "#### 3) Предиктор teaching влияет на наличие выгорания у респондента; \n",
    "#### 4) Предиктор research влияет на наличие выгорания у респондента; \n",
    "#### 5) Предиктор pastoral влияет на наличие выгорания у респондента; \n",
    "#### 6) Предиктор degree влияет на наличие выгорания у респондента; \n",
    "#### 7) Предиктор gender влияет на наличие выгорания у респондента."
   ]
  },
  {
   "cell_type": "code",
   "execution_count": 10,
   "metadata": {},
   "outputs": [
    {
     "name": "stdout",
     "output_type": "stream",
     "text": [
      "Optimization terminated successfully.\n",
      "         Current function value: 0.343066\n",
      "         Iterations 7\n",
      "                           Logit Regression Results                           \n",
      "==============================================================================\n",
      "Dep. Variable:                burnout   No. Observations:                  467\n",
      "Model:                          Logit   Df Residuals:                      458\n",
      "Method:                           MLE   Df Model:                            8\n",
      "Date:                Tue, 12 Nov 2024   Pseudo R-squ.:                  0.3955\n",
      "Time:                        21:54:34   Log-Likelihood:                -160.21\n",
      "converged:                       True   LL-Null:                       -265.05\n",
      "Covariance Type:            nonrobust   LLR p-value:                 5.805e-41\n",
      "=================================================================================\n",
      "                    coef    std err          z      P>|z|      [0.025      0.975]\n",
      "---------------------------------------------------------------------------------\n",
      "const            -4.7684      1.180     -4.042      0.000      -7.080      -2.456\n",
      "loc               0.1107      0.015      7.452      0.000       0.082       0.140\n",
      "cope              0.1414      0.016      8.660      0.000       0.109       0.173\n",
      "teaching         -0.1117      0.020     -5.669      0.000      -0.150      -0.073\n",
      "research          0.0196      0.010      1.871      0.061      -0.001       0.040\n",
      "pastoral          0.0466      0.013      3.521      0.000       0.021       0.073\n",
      "degree_ms         0.0962      0.489      0.197      0.844      -0.862       1.054\n",
      "degree_phd        0.1379      0.403      0.342      0.732      -0.653       0.928\n",
      "gender_female     0.2301      0.293      0.784      0.433      -0.345       0.805\n",
      "=================================================================================\n"
     ]
    }
   ],
   "source": [
    "model_with_current_values = sm.Logit(y_with_current_values, x_mult_with_current_values_constant).fit()\n",
    "print(model_with_current_values.summary())"
   ]
  },
  {
   "cell_type": "markdown",
   "metadata": {},
   "source": [
    "### <b> Рассмотрим основные метрики полученной модели: </b>\n",
    "\n",
    "#### Псевдо R-квадрат (0,3955) указывает на объясняющую способность модели. Значение 0,3955 означает, что около 39,55% вариации целевой переменной burnout объясняется предикторами в модели. Это невысокий показатель, но в данном случае он приемлем, так как для бинарной регрессии R-квадрат часто ниже, чем в линейной.\n",
    "\n",
    "#### Логарифм правдоподобия для модели без предикторов (-265,05). Это правдоподобие \"нулевой\" модели, в которой нет предикторов, только константа.\n",
    "\n",
    "#### Сравнив LL и LL-Null можно сказать, что добавление предикторов значительно улучшает модель по сравнению с нулевой моделью.\n",
    "\n",
    "#### P-value (5,805e-41) указывает на статистическую значимость модели . Такое низкое значение (5,805e-41) говорит о том, что модель значимо лучше, чем нулевая модель, и предикторы действительно влияют на вероятность выгорания. По данному значению можно сказать, что модель статистически значима."
   ]
  },
  {
   "cell_type": "markdown",
   "metadata": {},
   "source": [
    "### Интерпритация полученных коэффициентов возможна после примения к ним функции экспоненты. Рассмотрим это далее."
   ]
  },
  {
   "cell_type": "code",
   "execution_count": 11,
   "metadata": {},
   "outputs": [
    {
     "name": "stdout",
     "output_type": "stream",
     "text": [
      "Intercept =  -4.768438524278337\n"
     ]
    },
    {
     "data": {
      "text/html": [
       "<div>\n",
       "<style scoped>\n",
       "    .dataframe tbody tr th:only-of-type {\n",
       "        vertical-align: middle;\n",
       "    }\n",
       "\n",
       "    .dataframe tbody tr th {\n",
       "        vertical-align: top;\n",
       "    }\n",
       "\n",
       "    .dataframe thead th {\n",
       "        text-align: right;\n",
       "    }\n",
       "</style>\n",
       "<table border=\"1\" class=\"dataframe\">\n",
       "  <thead>\n",
       "    <tr style=\"text-align: right;\">\n",
       "      <th></th>\n",
       "      <th>Coefs</th>\n",
       "      <th>OddsRatio</th>\n",
       "    </tr>\n",
       "    <tr>\n",
       "      <th>Features</th>\n",
       "      <th></th>\n",
       "      <th></th>\n",
       "    </tr>\n",
       "  </thead>\n",
       "  <tbody>\n",
       "    <tr>\n",
       "      <th>loc</th>\n",
       "      <td>0.110665</td>\n",
       "      <td>1.117021</td>\n",
       "    </tr>\n",
       "    <tr>\n",
       "      <th>cope</th>\n",
       "      <td>0.141427</td>\n",
       "      <td>1.151916</td>\n",
       "    </tr>\n",
       "    <tr>\n",
       "      <th>teaching</th>\n",
       "      <td>-0.111659</td>\n",
       "      <td>0.894349</td>\n",
       "    </tr>\n",
       "    <tr>\n",
       "      <th>research</th>\n",
       "      <td>0.019564</td>\n",
       "      <td>1.019757</td>\n",
       "    </tr>\n",
       "    <tr>\n",
       "      <th>pastoral</th>\n",
       "      <td>0.046632</td>\n",
       "      <td>1.047737</td>\n",
       "    </tr>\n",
       "    <tr>\n",
       "      <th>degree_ms</th>\n",
       "      <td>0.096241</td>\n",
       "      <td>1.101024</td>\n",
       "    </tr>\n",
       "    <tr>\n",
       "      <th>degree_phd</th>\n",
       "      <td>0.137884</td>\n",
       "      <td>1.147843</td>\n",
       "    </tr>\n",
       "    <tr>\n",
       "      <th>gender_female</th>\n",
       "      <td>0.230101</td>\n",
       "      <td>1.258727</td>\n",
       "    </tr>\n",
       "  </tbody>\n",
       "</table>\n",
       "</div>"
      ],
      "text/plain": [
       "                  Coefs  OddsRatio\n",
       "Features                          \n",
       "loc            0.110665   1.117021\n",
       "cope           0.141427   1.151916\n",
       "teaching      -0.111659   0.894349\n",
       "research       0.019564   1.019757\n",
       "pastoral       0.046632   1.047737\n",
       "degree_ms      0.096241   1.101024\n",
       "degree_phd     0.137884   1.147843\n",
       "gender_female  0.230101   1.258727"
      ]
     },
     "execution_count": 11,
     "metadata": {},
     "output_type": "execute_result"
    }
   ],
   "source": [
    "coefs = pd.DataFrame()\n",
    "coefs['Coefs'] = model_with_current_values.params[1:]\n",
    "coefs['Features'] = model_with_current_values.params.index[1:]\n",
    "coefs.set_index('Features', inplace=True)\n",
    "print('Intercept = ', model_with_current_values.params[0])\n",
    "coefs['OddsRatio'] = np.exp(coefs.Coefs)\n",
    "coefs\n",
    "#коэффициенты регрессии и отношения шансов"
   ]
  },
  {
   "cell_type": "markdown",
   "metadata": {},
   "source": [
    "### <b> Выводы по сформулированным гипотезам исследования. </b>\n",
    "#### Зеленым цветом отмечены гипотезы, которые подтвердились, а красным те, которые не подтвердились (учитывая 5% уровень значимости)\n",
    "#### <span style='color:Green'> 1) Предиктор loc влияет на наличие выгорания у респондента - Гипотеза подтверждается, так как данная переменная статистически значима; \n",
    "#### <span style='color:Green'> 2) Предиктор cope влияет на наличие выгорания у респондента - Гипотеза подтверждается, так как данная переменная статистически значима; \n",
    "#### <span style='color:Green'> 3) Предиктор teaching влияет на наличие выгорания у респондента - Гипотеза подтверждается, так как данная переменная статистически значима; \n",
    "#### <span style='color:Red'> 4) Предиктор research влияет на наличие выгорания у респондента - Гипотеза НЕ подтверждается, так как данная переменная статистически НЕ значима; \n",
    "#### <span style='color:Green'> 5) Предиктор pastoral влияет на наличие выгорания у респондента - Гипотеза подтверждается, так как данная переменная статистически значима; \n",
    "#### <span style='color:Red'> 6) Предиктор degree влияет на наличие выгорания у респондента - Гипотеза НЕ подтверждается, так как данная переменная статистически НЕ значима; \n",
    "#### <span style='color:Red'> 7) Предиктор gender влияет на наличие выгорания у респондента - Гипотеза НЕ подтверждается, так как данная переменная статистически НЕ значима."
   ]
  },
  {
   "cell_type": "code",
   "execution_count": 13,
   "metadata": {},
   "outputs": [],
   "source": [
    "def yes_no(p_value, level = 0.05):\n",
    "    if abs(p_value) < level:\n",
    "        return 'significant'\n",
    "    else:\n",
    "        return 'non-significant'"
   ]
  },
  {
   "cell_type": "code",
   "execution_count": 14,
   "metadata": {},
   "outputs": [
    {
     "data": {
      "text/html": [
       "<div>\n",
       "<style scoped>\n",
       "    .dataframe tbody tr th:only-of-type {\n",
       "        vertical-align: middle;\n",
       "    }\n",
       "\n",
       "    .dataframe tbody tr th {\n",
       "        vertical-align: top;\n",
       "    }\n",
       "\n",
       "    .dataframe thead th {\n",
       "        text-align: right;\n",
       "    }\n",
       "</style>\n",
       "<table border=\"1\" class=\"dataframe\">\n",
       "  <thead>\n",
       "    <tr style=\"text-align: right;\">\n",
       "      <th></th>\n",
       "      <th>p_values</th>\n",
       "      <th>5% level</th>\n",
       "      <th>10% level</th>\n",
       "    </tr>\n",
       "    <tr>\n",
       "      <th>Features</th>\n",
       "      <th></th>\n",
       "      <th></th>\n",
       "      <th></th>\n",
       "    </tr>\n",
       "  </thead>\n",
       "  <tbody>\n",
       "    <tr>\n",
       "      <th>loc</th>\n",
       "      <td>0.000</td>\n",
       "      <td>significant</td>\n",
       "      <td>significant</td>\n",
       "    </tr>\n",
       "    <tr>\n",
       "      <th>cope</th>\n",
       "      <td>0.000</td>\n",
       "      <td>significant</td>\n",
       "      <td>significant</td>\n",
       "    </tr>\n",
       "    <tr>\n",
       "      <th>teaching</th>\n",
       "      <td>0.000</td>\n",
       "      <td>significant</td>\n",
       "      <td>significant</td>\n",
       "    </tr>\n",
       "    <tr>\n",
       "      <th>research</th>\n",
       "      <td>0.061</td>\n",
       "      <td>non-significant</td>\n",
       "      <td>significant</td>\n",
       "    </tr>\n",
       "    <tr>\n",
       "      <th>pastoral</th>\n",
       "      <td>0.000</td>\n",
       "      <td>significant</td>\n",
       "      <td>significant</td>\n",
       "    </tr>\n",
       "    <tr>\n",
       "      <th>degree_ms</th>\n",
       "      <td>0.844</td>\n",
       "      <td>non-significant</td>\n",
       "      <td>non-significant</td>\n",
       "    </tr>\n",
       "    <tr>\n",
       "      <th>degree_phd</th>\n",
       "      <td>0.732</td>\n",
       "      <td>non-significant</td>\n",
       "      <td>non-significant</td>\n",
       "    </tr>\n",
       "    <tr>\n",
       "      <th>gender_female</th>\n",
       "      <td>0.433</td>\n",
       "      <td>non-significant</td>\n",
       "      <td>non-significant</td>\n",
       "    </tr>\n",
       "  </tbody>\n",
       "</table>\n",
       "</div>"
      ],
      "text/plain": [
       "              p_values         5% level        10% level\n",
       "Features                                                \n",
       "loc              0.000      significant      significant\n",
       "cope             0.000      significant      significant\n",
       "teaching         0.000      significant      significant\n",
       "research         0.061  non-significant      significant\n",
       "pastoral         0.000      significant      significant\n",
       "degree_ms        0.844  non-significant  non-significant\n",
       "degree_phd       0.732  non-significant  non-significant\n",
       "gender_female    0.433  non-significant  non-significant"
      ]
     },
     "execution_count": 14,
     "metadata": {},
     "output_type": "execute_result"
    }
   ],
   "source": [
    "pvals = pd.DataFrame()\n",
    "pvals['p_values'] = model_with_current_values.pvalues[1:]\n",
    "pvals['5% level']= pvals['p_values'].apply(yes_no)\n",
    "pvals['p_values'] = pvals['p_values'].map('{:.3f}'.format)\n",
    "pvals['Features'] = model_with_current_values.params.index[1:]\n",
    "pvals.set_index('Features',inplace=True)\n",
    "pvals['10% level'] = model_with_current_values.pvalues[1:].apply(lambda x: yes_no(x, level=0.1))\n",
    "pvals"
   ]
  },
  {
   "cell_type": "markdown",
   "metadata": {},
   "source": [
    "#### Как мы видим статистически значимые предикторы на 5% уровне являются: loc, cope, teaching, pastoral. Для 5% уровня статистически не значимымы являются предикторы degree, gender и research.\n",
    "\n",
    "#### На 10% уровне статистически значимые предикторы немного отличаются от уровня 5% значимости. В данном случае, статистически значимыми предиктораями являются const, loc, cope, teaching, pastoral, research. А статистически не значимымы предикторами являются degree и gender."
   ]
  },
  {
   "cell_type": "markdown",
   "metadata": {},
   "source": [
    "### <b> Рассмотрим коэффициенты модели, к которым применена функция экспоненты, и их значимость для интерпретации вероятности выгорания, с учетом 5% значимости: </b>\n",
    "\n",
    "#### Предикторы degree, gender и research не являются статистически значимыми - нет необходимости их интерпритировать.\n",
    "\n",
    "#### Предиктор loc (ощущаемый контроль). Значение коэффициента = 1,117021. Положительное значение коэффициента указывает, что, в среднем, с увеличением loc (чем меньше человек ощущает контроль над ситуацией), вероятность выгорания увеличивается на 12%. \n",
    "\n",
    "#### Предиктор cope (способность справляться со сложностями). Значение коэффициента = 1,151916. Положительное значение коэффициента указывает на то, что, в среднем, увеличение значения cope (снижение способности справляться со сложностями) на единицу увеличивает вероятность выгорания на 15%. \n",
    "\n",
    "#### Предиктор teaching (стресс от преподавания). Значение коэффициента = 0,894349. Значение ниже 1 свидетельсвует о том, что, в среднем, с ростом стресса от преподавания на единицу возможность выгорания снижается на 11%.\n",
    "\n",
    "#### Предиктор pastoral (стресс от бескорыстной помощи коллегам и студентам). Значение коэффициента = 1,047737. Положительное значение коэффициета говорит о том, что, в среднем, с ростом стресса от бескорыстной помощи коллегам и студентам на единицу, возможность выгорания увеличивается на 4%."
   ]
  },
  {
   "cell_type": "code",
   "execution_count": 15,
   "metadata": {},
   "outputs": [
    {
     "name": "stdout",
     "output_type": "stream",
     "text": [
      "R^2 = 0.395549\n",
      "Model significance = 0.000000\n"
     ]
    }
   ],
   "source": [
    "print('R^2 = {:f}'.format(model_with_current_values.prsquared))\n",
    "print('Model significance = {:f}'.format(model_with_current_values.llr_pvalue))"
   ]
  },
  {
   "cell_type": "markdown",
   "metadata": {},
   "source": [
    "Из полученных значений r^2 и p-value можно отметить, что модель статистически значима и объясняет 39% значений зависимой переменной."
   ]
  },
  {
   "cell_type": "code",
   "execution_count": 16,
   "metadata": {},
   "outputs": [
    {
     "name": "stdout",
     "output_type": "stream",
     "text": [
      "logit(p) = -4.768439 + 0.11*loc + 0.14*cope + -0.11*teaching + 0.02*research + 0.05*pastoral + 0.10*degree_ms + 0.14*degree_phd + 0.23*gender_female\n"
     ]
    }
   ],
   "source": [
    "l = []\n",
    "for (param, index) in zip(model_with_current_values.params[1:], model_with_current_values.params.index[1:]):\n",
    "    l.append('{:.2f}*{}'.format(param, index))\n",
    "    \n",
    "print('logit(p) = {:2f} + {}'.format(model_with_current_values.params[0], ' + '.join(l)))"
   ]
  },
  {
   "cell_type": "markdown",
   "metadata": {},
   "source": [
    "#### Полученная линейная часть уравнение бинарной регрессии:\n",
    "\n",
    "#### logit(p) = -4.768439 + 0.11\\*loc + 0.14\\*cope + -0.11\\*teaching + 0.02\\*research + 0.05\\*pastoral + 0.10\\*degree_ms + 0.14\\*degree_phd + 0.23\\*gender_female"
   ]
  },
  {
   "cell_type": "markdown",
   "metadata": {},
   "source": [
    "### <b> Интерпретация значений коэффициентов регрессии </b>"
   ]
  },
  {
   "cell_type": "markdown",
   "metadata": {},
   "source": [
    "### Матрица ошибок"
   ]
  },
  {
   "cell_type": "code",
   "execution_count": 17,
   "metadata": {},
   "outputs": [
    {
     "name": "stdout",
     "output_type": "stream",
     "text": [
      "TP: 322.0 | FN: 26.0\n",
      "-------------------\n",
      "FP: 53.0  | TN: 66.0\n"
     ]
    }
   ],
   "source": [
    "cm = model_with_current_values.pred_table()\n",
    "print('TP: {} | FN: {}\\n-------------------\\nFP: {}  | TN: {}'.format(cm[0,0], cm[0,1], cm[1,0], cm[1,1]))"
   ]
  },
  {
   "cell_type": "markdown",
   "metadata": {},
   "source": [
    "### В полученной матрице указаны четыре метрики:\n",
    "\n",
    "#### TP (True Positives) = 322: Количество истинно положительных случаев — когда модель правильно предсказала наличие выгорания (1).\n",
    "#### FN (False Negatives) = 26: Количество ложно отрицательных случаев — когда модель ошибочно предсказала отсутствие выгорания (0), хотя в реальности это было наличие выгорания (1).\n",
    "#### FP (False Positives) = 53: Количество ложно положительных случаев — когда модель оишбочно предсказала наличие выгорания (1), хотя в реальности это было отсутсвие выгорания (0).\n",
    "#### TN (True Negatives) = 66: Количество истинно отрицательных случаев — когда модель правильно предсказала класс отсутствие выгорания (0).\n",
    "\n",
    "#### Как мы видим, из 467 наблюдений 388 (322+66) было предсказано моделью верно, а оставшиеся 79 (26 и 53) значения были предсказаны неверно. Большая часть значений предсказывается верно, можно сделать вывод о хорошем качестве модели"
   ]
  },
  {
   "cell_type": "code",
   "execution_count": 29,
   "metadata": {},
   "outputs": [
    {
     "name": "stdout",
     "output_type": "stream",
     "text": [
      "Точность (доля правильных ответов алгоритма): = 0.8308351177730193\n"
     ]
    }
   ],
   "source": [
    "accuracy = (cm[0,0] + cm[1,1]) / sum(sum(cm))\n",
    "print('Точность (доля правильных ответов алгоритма): = {}'.format(accuracy))"
   ]
  },
  {
   "cell_type": "markdown",
   "metadata": {},
   "source": [
    "#### Полученное значение <b> accuracy </b> говорит о том, что модель классифицирует правильно около 83,1% случаев."
   ]
  },
  {
   "cell_type": "code",
   "execution_count": 26,
   "metadata": {},
   "outputs": [
    {
     "name": "stdout",
     "output_type": "stream",
     "text": [
      "Полнота для класса \"1\" (наличие выгорания): = 0.9252873563218391\n"
     ]
    }
   ],
   "source": [
    "recall = cm[0,0] / (cm[0,0] + cm[0,1])\n",
    "print('Полнота для класса \"1\" (наличие выгорания): = {}'.format(recall))"
   ]
  },
  {
   "cell_type": "markdown",
   "metadata": {},
   "source": [
    "####  <b> recall </b> - это то, какую долю объектов положительного класса из всех объектов положительного класса нашёл алгоритм.Полученное значение recall 92,5% говорит о том, что модель хорошо находит большинство положительных случаев.\n",
    "\n",
    "Ссылка на источник [https://habr.com/ru/articles/661119/]"
   ]
  },
  {
   "cell_type": "code",
   "execution_count": 30,
   "metadata": {},
   "outputs": [
    {
     "name": "stdout",
     "output_type": "stream",
     "text": [
      "Точность для класса \"1\" (наличие выгорания): = 0.8586666666666667\n"
     ]
    }
   ],
   "source": [
    "precision = cm[0,0] / (cm[0,0] + cm[1,0])\n",
    "print('Точность для класса \"1\" (наличие выгорания): = {}'.format(precision))    "
   ]
  },
  {
   "cell_type": "markdown",
   "metadata": {},
   "source": [
    "#### <b> precision </b> - это доля объектов, названными моделью положительными и при этом действительно являющимися положительными, в нашем случае составяет 86%.\n",
    "\n",
    "Ссылка на источник [https://habr.com/ru/articles/661119/]"
   ]
  },
  {
   "cell_type": "markdown",
   "metadata": {},
   "source": [
    "#### В целом, у модели наблюдается хороший баланс между полнотой и точностью, что делает ее эффективной для определения выгорания по выбранным критериям."
   ]
  },
  {
   "cell_type": "markdown",
   "metadata": {},
   "source": [
    "### ROC-curve"
   ]
  },
  {
   "cell_type": "code",
   "execution_count": 19,
   "metadata": {},
   "outputs": [],
   "source": [
    "fpr, tpr, _ = roc_curve(df[\"burnout\"], model_with_current_values.predict())\n",
    "roc_auc = auc(fpr, tpr)"
   ]
  },
  {
   "cell_type": "code",
   "execution_count": 20,
   "metadata": {},
   "outputs": [
    {
     "data": {
      "image/png": "[encoded data removed]",
      "text/plain": [
       "<Figure size 640x480 with 1 Axes>"
      ]
     },
     "metadata": {},
     "output_type": "display_data"
    }
   ],
   "source": [
    "plt.plot(fpr, tpr, color='darkorange', lw=2, label='ROC curve (area = %0.2f)' % roc_auc)\n",
    "plt.plot([0, 1], [0, 1], color='navy', lw=2, linestyle='--')\n",
    "plt.xlim([0.0, 1.0])\n",
    "plt.ylim([0.0, 1.05])\n",
    "plt.xlabel('False Positive Rate')\n",
    "plt.ylabel('True Positive Rate')\n",
    "plt.legend(loc='lower right')\n",
    "plt.show()"
   ]
  },
  {
   "cell_type": "markdown",
   "metadata": {},
   "source": [
    "#### ROC-кривая показывает, насколько хорошо модель справляется с разделением классов (в нашем случае наличие или отсуствие выгорания).\n",
    "\n",
    "#### Каждая точка на графике соответствует выбору некоторого порога. Площадь под кривой показывает качество алгоритма (больше — лучше), кроме этого, важной является крутизна самой кривой — мы хотим максимизировать TPR, минимизируя FPR, а значит, наша кривая в идеале должна стремиться к точке (0,1).\n",
    "\n",
    "#### Ссылка на источник [https://habr.com/ru/companies/ods/articles/328372/]\n",
    "\n",
    "#### ROC-кривая имеет площадь под кривой (AUC) равную 0,90, что, в целом, говорит о хорошем качестве модели. Чем ближе AUC к 1, тем лучше модель справляется с определением наличия или отсуствия выгорания - кривая находится значительно выше диагонали, что указывает на то, что модель не случайно угадывает значения, а определяет их (с хорошей точностью) на основании выявленных зависимостей."
   ]
  },
  {
   "cell_type": "markdown",
   "metadata": {},
   "source": [
    "# Диагностика модели"
   ]
  },
  {
   "cell_type": "markdown",
   "metadata": {},
   "source": [
    "### Остатки"
   ]
  },
  {
   "cell_type": "code",
   "execution_count": null,
   "metadata": {},
   "outputs": [
    {
     "name": "stdout",
     "output_type": "stream",
     "text": [
      "P-value: 0.000\n"
     ]
    }
   ],
   "source": [
    "p = stats.kstest(model_with_current_values.resid_generalized, 'norm', args=(model_with_current_values.resid_generalized.mean(), model_with_current_values.resid_generalized.std())).pvalue\n",
    "print('P-value: {:.3f}'.format(p))"
   ]
  },
  {
   "cell_type": "code",
   "execution_count": 22,
   "metadata": {},
   "outputs": [
    {
     "data": {
      "text/plain": [
       "<Axes: ylabel='Density'>"
      ]
     },
     "execution_count": 22,
     "metadata": {},
     "output_type": "execute_result"
    },
    {
     "data": {
      "image/png": "[encoded data removed]",
      "text/plain": [
       "<Figure size 640x480 with 1 Axes>"
      ]
     },
     "metadata": {},
     "output_type": "display_data"
    }
   ],
   "source": [
    "sns.distplot(model_with_current_values.resid_generalized, fit=stats.norm) "
   ]
  },
  {
   "cell_type": "markdown",
   "metadata": {},
   "source": [
    "### <b> По графику распределения остатков видно следующее: </b>\n",
    "#### Преимущественно остатки находятся в районе нуля, что указывает на то, что модель в среднем не имеет смещения и предсказывает зависимую переменную burnout без систематической ошибки. \n",
    "\n",
    "#### Форма распределения осотаков визуально близка к нормальному распределению, хотя имеется пик в центре, что может указывать на небольшую концентрацию остатков вокруг нуля. \n",
    "\n",
    "#### На графике не видно явной асимметрии или значительных выбросов."
   ]
  },
  {
   "cell_type": "markdown",
   "metadata": {},
   "source": [
    "### <b> Мультиколлинеарность </b>"
   ]
  },
  {
   "cell_type": "code",
   "execution_count": null,
   "metadata": {},
   "outputs": [],
   "source": [
    "vifs = np.array([vif(model_with_current_values.model.exog, i) for i in range(model_with_current_values.model.exog.shape[1])])"
   ]
  },
  {
   "cell_type": "code",
   "execution_count": null,
   "metadata": {},
   "outputs": [
    {
     "data": {
      "text/html": [
       "<div>\n",
       "<style scoped>\n",
       "    .dataframe tbody tr th:only-of-type {\n",
       "        vertical-align: middle;\n",
       "    }\n",
       "\n",
       "    .dataframe tbody tr th {\n",
       "        vertical-align: top;\n",
       "    }\n",
       "\n",
       "    .dataframe thead th {\n",
       "        text-align: right;\n",
       "    }\n",
       "</style>\n",
       "<table border=\"1\" class=\"dataframe\">\n",
       "  <thead>\n",
       "    <tr style=\"text-align: right;\">\n",
       "      <th></th>\n",
       "      <th>VIF</th>\n",
       "      <th>Features</th>\n",
       "    </tr>\n",
       "  </thead>\n",
       "  <tbody>\n",
       "    <tr>\n",
       "      <th>7</th>\n",
       "      <td>1.037647</td>\n",
       "      <td>gender_female</td>\n",
       "    </tr>\n",
       "    <tr>\n",
       "      <th>3</th>\n",
       "      <td>1.094108</td>\n",
       "      <td>research</td>\n",
       "    </tr>\n",
       "    <tr>\n",
       "      <th>0</th>\n",
       "      <td>1.266576</td>\n",
       "      <td>loc</td>\n",
       "    </tr>\n",
       "    <tr>\n",
       "      <th>4</th>\n",
       "      <td>1.397120</td>\n",
       "      <td>pastoral</td>\n",
       "    </tr>\n",
       "    <tr>\n",
       "      <th>1</th>\n",
       "      <td>1.790338</td>\n",
       "      <td>cope</td>\n",
       "    </tr>\n",
       "    <tr>\n",
       "      <th>5</th>\n",
       "      <td>1.812869</td>\n",
       "      <td>degree_ms</td>\n",
       "    </tr>\n",
       "    <tr>\n",
       "      <th>6</th>\n",
       "      <td>1.819401</td>\n",
       "      <td>degree_phd</td>\n",
       "    </tr>\n",
       "    <tr>\n",
       "      <th>2</th>\n",
       "      <td>2.294505</td>\n",
       "      <td>teaching</td>\n",
       "    </tr>\n",
       "  </tbody>\n",
       "</table>\n",
       "</div>"
      ],
      "text/plain": [
       "        VIF       Features\n",
       "7  1.037647  gender_female\n",
       "3  1.094108       research\n",
       "0  1.266576            loc\n",
       "4  1.397120       pastoral\n",
       "1  1.790338           cope\n",
       "5  1.812869      degree_ms\n",
       "6  1.819401     degree_phd\n",
       "2  2.294505       teaching"
      ]
     },
     "execution_count": 62,
     "metadata": {},
     "output_type": "execute_result"
    }
   ],
   "source": [
    "vif_df = pd.DataFrame()\n",
    "vif_df['VIF'] = vifs[1:]\n",
    "vif_df['Features'] = model_with_current_values.params.index[1:]\n",
    "vif_df.sort_values(by=['VIF'])"
   ]
  },
  {
   "cell_type": "markdown",
   "metadata": {},
   "source": [
    "Нет значений VIF, превышающих 10. Проблема мультиколлинеарности отсутствует."
   ]
  },
  {
   "cell_type": "markdown",
   "metadata": {},
   "source": [
    "### Сохранение предсказанной вероятности наступления события для каждого наблюдения"
   ]
  },
  {
   "cell_type": "code",
   "execution_count": 24,
   "metadata": {},
   "outputs": [
    {
     "data": {
      "text/html": [
       "<div>\n",
       "<style scoped>\n",
       "    .dataframe tbody tr th:only-of-type {\n",
       "        vertical-align: middle;\n",
       "    }\n",
       "\n",
       "    .dataframe tbody tr th {\n",
       "        vertical-align: top;\n",
       "    }\n",
       "\n",
       "    .dataframe thead th {\n",
       "        text-align: right;\n",
       "    }\n",
       "</style>\n",
       "<table border=\"1\" class=\"dataframe\">\n",
       "  <thead>\n",
       "    <tr style=\"text-align: right;\">\n",
       "      <th></th>\n",
       "      <th>burnout</th>\n",
       "      <th>loc</th>\n",
       "      <th>cope</th>\n",
       "      <th>teaching</th>\n",
       "      <th>research</th>\n",
       "      <th>pastoral</th>\n",
       "      <th>gender</th>\n",
       "      <th>degree</th>\n",
       "      <th>degree_mba</th>\n",
       "      <th>degree_ms</th>\n",
       "      <th>degree_phd</th>\n",
       "      <th>gender_female</th>\n",
       "      <th>gender_male</th>\n",
       "      <th>probability</th>\n",
       "    </tr>\n",
       "  </thead>\n",
       "  <tbody>\n",
       "    <tr>\n",
       "      <th>215</th>\n",
       "      <td>0</td>\n",
       "      <td>12.352941</td>\n",
       "      <td>10.687023</td>\n",
       "      <td>49.090909</td>\n",
       "      <td>56.250000</td>\n",
       "      <td>18.518519</td>\n",
       "      <td>male</td>\n",
       "      <td>ms</td>\n",
       "      <td>0</td>\n",
       "      <td>1</td>\n",
       "      <td>0</td>\n",
       "      <td>0</td>\n",
       "      <td>1</td>\n",
       "      <td>0.004912</td>\n",
       "    </tr>\n",
       "    <tr>\n",
       "      <th>291</th>\n",
       "      <td>0</td>\n",
       "      <td>10.588235</td>\n",
       "      <td>11.450382</td>\n",
       "      <td>56.363636</td>\n",
       "      <td>35.416667</td>\n",
       "      <td>50.000000</td>\n",
       "      <td>male</td>\n",
       "      <td>phd</td>\n",
       "      <td>0</td>\n",
       "      <td>0</td>\n",
       "      <td>1</td>\n",
       "      <td>0</td>\n",
       "      <td>1</td>\n",
       "      <td>0.006009</td>\n",
       "    </tr>\n",
       "    <tr>\n",
       "      <th>208</th>\n",
       "      <td>0</td>\n",
       "      <td>37.647059</td>\n",
       "      <td>5.343511</td>\n",
       "      <td>72.727273</td>\n",
       "      <td>29.166667</td>\n",
       "      <td>48.148148</td>\n",
       "      <td>male</td>\n",
       "      <td>ms</td>\n",
       "      <td>0</td>\n",
       "      <td>1</td>\n",
       "      <td>0</td>\n",
       "      <td>0</td>\n",
       "      <td>1</td>\n",
       "      <td>0.006337</td>\n",
       "    </tr>\n",
       "    <tr>\n",
       "      <th>204</th>\n",
       "      <td>0</td>\n",
       "      <td>31.176471</td>\n",
       "      <td>5.343511</td>\n",
       "      <td>69.090909</td>\n",
       "      <td>41.666667</td>\n",
       "      <td>53.703704</td>\n",
       "      <td>male</td>\n",
       "      <td>ms</td>\n",
       "      <td>0</td>\n",
       "      <td>1</td>\n",
       "      <td>0</td>\n",
       "      <td>0</td>\n",
       "      <td>1</td>\n",
       "      <td>0.007680</td>\n",
       "    </tr>\n",
       "    <tr>\n",
       "      <th>313</th>\n",
       "      <td>0</td>\n",
       "      <td>7.647059</td>\n",
       "      <td>12.213740</td>\n",
       "      <td>49.090909</td>\n",
       "      <td>35.416667</td>\n",
       "      <td>42.592593</td>\n",
       "      <td>male</td>\n",
       "      <td>phd</td>\n",
       "      <td>0</td>\n",
       "      <td>0</td>\n",
       "      <td>1</td>\n",
       "      <td>0</td>\n",
       "      <td>1</td>\n",
       "      <td>0.007696</td>\n",
       "    </tr>\n",
       "    <tr>\n",
       "      <th>...</th>\n",
       "      <td>...</td>\n",
       "      <td>...</td>\n",
       "      <td>...</td>\n",
       "      <td>...</td>\n",
       "      <td>...</td>\n",
       "      <td>...</td>\n",
       "      <td>...</td>\n",
       "      <td>...</td>\n",
       "      <td>...</td>\n",
       "      <td>...</td>\n",
       "      <td>...</td>\n",
       "      <td>...</td>\n",
       "      <td>...</td>\n",
       "      <td>...</td>\n",
       "    </tr>\n",
       "    <tr>\n",
       "      <th>76</th>\n",
       "      <td>1</td>\n",
       "      <td>32.941176</td>\n",
       "      <td>67.938931</td>\n",
       "      <td>65.454545</td>\n",
       "      <td>41.666667</td>\n",
       "      <td>79.629630</td>\n",
       "      <td>female</td>\n",
       "      <td>phd</td>\n",
       "      <td>0</td>\n",
       "      <td>0</td>\n",
       "      <td>1</td>\n",
       "      <td>1</td>\n",
       "      <td>0</td>\n",
       "      <td>0.997702</td>\n",
       "    </tr>\n",
       "    <tr>\n",
       "      <th>42</th>\n",
       "      <td>1</td>\n",
       "      <td>31.176471</td>\n",
       "      <td>92.366412</td>\n",
       "      <td>92.727273</td>\n",
       "      <td>45.833333</td>\n",
       "      <td>100.000000</td>\n",
       "      <td>male</td>\n",
       "      <td>phd</td>\n",
       "      <td>0</td>\n",
       "      <td>0</td>\n",
       "      <td>1</td>\n",
       "      <td>0</td>\n",
       "      <td>1</td>\n",
       "      <td>0.999166</td>\n",
       "    </tr>\n",
       "    <tr>\n",
       "      <th>7</th>\n",
       "      <td>1</td>\n",
       "      <td>31.176471</td>\n",
       "      <td>83.206107</td>\n",
       "      <td>74.545455</td>\n",
       "      <td>35.416667</td>\n",
       "      <td>87.037037</td>\n",
       "      <td>female</td>\n",
       "      <td>mba</td>\n",
       "      <td>1</td>\n",
       "      <td>0</td>\n",
       "      <td>0</td>\n",
       "      <td>1</td>\n",
       "      <td>0</td>\n",
       "      <td>0.999182</td>\n",
       "    </tr>\n",
       "    <tr>\n",
       "      <th>33</th>\n",
       "      <td>1</td>\n",
       "      <td>70.000000</td>\n",
       "      <td>58.015267</td>\n",
       "      <td>76.363636</td>\n",
       "      <td>64.583333</td>\n",
       "      <td>94.444444</td>\n",
       "      <td>female</td>\n",
       "      <td>ms</td>\n",
       "      <td>0</td>\n",
       "      <td>1</td>\n",
       "      <td>0</td>\n",
       "      <td>1</td>\n",
       "      <td>0</td>\n",
       "      <td>0.999825</td>\n",
       "    </tr>\n",
       "    <tr>\n",
       "      <th>0</th>\n",
       "      <td>1</td>\n",
       "      <td>61.764706</td>\n",
       "      <td>81.679389</td>\n",
       "      <td>94.545455</td>\n",
       "      <td>81.250000</td>\n",
       "      <td>96.296296</td>\n",
       "      <td>male</td>\n",
       "      <td>mba</td>\n",
       "      <td>1</td>\n",
       "      <td>0</td>\n",
       "      <td>0</td>\n",
       "      <td>0</td>\n",
       "      <td>1</td>\n",
       "      <td>0.999893</td>\n",
       "    </tr>\n",
       "  </tbody>\n",
       "</table>\n",
       "<p>467 rows × 14 columns</p>\n",
       "</div>"
      ],
      "text/plain": [
       "     burnout        loc       cope   teaching   research    pastoral  gender  \\\n",
       "215        0  12.352941  10.687023  49.090909  56.250000   18.518519    male   \n",
       "291        0  10.588235  11.450382  56.363636  35.416667   50.000000    male   \n",
       "208        0  37.647059   5.343511  72.727273  29.166667   48.148148    male   \n",
       "204        0  31.176471   5.343511  69.090909  41.666667   53.703704    male   \n",
       "313        0   7.647059  12.213740  49.090909  35.416667   42.592593    male   \n",
       "..       ...        ...        ...        ...        ...         ...     ...   \n",
       "76         1  32.941176  67.938931  65.454545  41.666667   79.629630  female   \n",
       "42         1  31.176471  92.366412  92.727273  45.833333  100.000000    male   \n",
       "7          1  31.176471  83.206107  74.545455  35.416667   87.037037  female   \n",
       "33         1  70.000000  58.015267  76.363636  64.583333   94.444444  female   \n",
       "0          1  61.764706  81.679389  94.545455  81.250000   96.296296    male   \n",
       "\n",
       "    degree  degree_mba  degree_ms  degree_phd  gender_female  gender_male  \\\n",
       "215     ms           0          1           0              0            1   \n",
       "291    phd           0          0           1              0            1   \n",
       "208     ms           0          1           0              0            1   \n",
       "204     ms           0          1           0              0            1   \n",
       "313    phd           0          0           1              0            1   \n",
       "..     ...         ...        ...         ...            ...          ...   \n",
       "76     phd           0          0           1              1            0   \n",
       "42     phd           0          0           1              0            1   \n",
       "7      mba           1          0           0              1            0   \n",
       "33      ms           0          1           0              1            0   \n",
       "0      mba           1          0           0              0            1   \n",
       "\n",
       "     probability  \n",
       "215     0.004912  \n",
       "291     0.006009  \n",
       "208     0.006337  \n",
       "204     0.007680  \n",
       "313     0.007696  \n",
       "..           ...  \n",
       "76      0.997702  \n",
       "42      0.999166  \n",
       "7       0.999182  \n",
       "33      0.999825  \n",
       "0       0.999893  \n",
       "\n",
       "[467 rows x 14 columns]"
      ]
     },
     "execution_count": 24,
     "metadata": {},
     "output_type": "execute_result"
    }
   ],
   "source": [
    "df['probability'] = model_with_current_values.predict()\n",
    "df.sort_values('probability')"
   ]
  },
  {
   "cell_type": "markdown",
   "metadata": {},
   "source": [
    "### По полученным значениям предсказанной вероятности (probability) получения выгорания можно сказать следующее:\n",
    "\n",
    "#### Если у человека (по статистически значимым показателям - loc, cope, teaching, pastoral) loc (ощущаемый контроль) ≈ 61,76, cope (способность справляться со сложностями) ≈ 81,68, teaching (стресс от преподавания) ≈ 94,55, pastoral (стресс от бескорыстной помощи коллегам и студентам) ≈ 96,30, то у него <b> наивысшая вероятность наличия выгорания (0.99989). </b>\n",
    "\n",
    "#### Если у человека (по статистически значимым показателям - loc, cope, teaching, pastoral) loc (ощущаемый контроль) ≈ 12,35, cope (способность справляться со сложностями) ≈ 10,69, teaching (стресс от преподавания) ≈ 49,09, pastoral (стресс от бескорыстной помощи коллегам и студентам) ≈ 18,52, то у него <b> наименьшая вероятность наличия выгорания (0,0049). </b>"
   ]
  },
  {
   "cell_type": "markdown",
   "metadata": {},
   "source": [
    "### <b> Выводы </b>\n",
    "\n",
    "#### Для построения модели бинарной регрессии, которая определяет наличие (или отсуствие) выгорания у человека, были выбраны <b> метрические предикторы </b> (которые измерены по шкале от 0 до 100): loc (ощущаемый контроль), cope (способность справляться со сложностями), teaching (стресс от преподавания), research (стресс от проведения исследований), pastoral (стресс от бескорыстной помощи коллегам и студентам), а также <b> категорильные предикторы </b>: gender (пол - мужской, женский) и degree (наличие ученой степени: phd – кандидат наук, mba - мастер делового администрирования, ms – магистр).\n",
    "\n",
    "#### После построения модели было выявлено, что среди выбранных предикторов, <b> значимыми являются переменные loc, cope, teaching, и pastoral </b>. Увеличение loc, cope и pastoral повышает вероятность выгорания, в то время как teaching снижает ее. Оставшиеся <b> предикторы (research, degree и gende) являются статистически не значимыми. </b>\n",
    "\n",
    "#### Полученное значение accuracy говорит о том, что модель классифицирует правильно около 83,1% случаев. Полученное значение recall 92,5% говорит о том, что модель хорошо находит большинство положительных случаев. Precision (доля объектов, названными моделью положительными и при этом действительно являющимися положительными) составяет 86%.\n",
    "\n",
    "#### ROC-кривая имеет площадь под кривой (AUC) равную 0,90, что, в целом, говорит о хорошем качестве модели. Кривая находится значительно выше диагонали, что указывает на то, что модель не случайно угадывает значения, а определяет их (с хорошей точностью) на основании выявленных зависимостей.\n",
    "\n",
    "#### Распределение остатов модели похоже на нормальное, явных выбросов не заметно.\n",
    "\n",
    "#### Проблема мультиколлениарности в данной модели отсуствует.\n",
    "\n",
    "#### В целом, можно отметить, что полученная модель бинарной регрессии хорошо справляется с поставленной задачей и является статистически значимой.\n",
    "\n",
    "#### <b> Среди неожиданных для нас результатов стало следующее: </b>\n",
    "#### - Обратное влияние teaching на наличие выгорания. Мы предполагали, что рост стресса от преподавания приводит к увеличению получения выгорания, но получили обратные результат;\n",
    "#### - Статистически не значимый предиктор \"gender\". Мы предполагали, что выгоранию чаще подвергаются женщины (что связано с наличием семейных проблем, ответственности за детей, и других бытовых проблем).\n",
    "#### Отсуствие же связи выгорания с наличием ученой степени мы предполагали изначально (т.к. люди, получающие любую ученую степень, сразу понимают куда и зачем идут, и, скорее всего, готовы к тем сложностям, с которыми им придется столкнуться)"
   ]
  }
 ],
 "metadata": {
  "kernelspec": {
   "display_name": "Python 3",
   "language": "python",
   "name": "python3"
  },
  "language_info": {
   "codemirror_mode": {
    "name": "ipython",
    "version": 3
   },
   "file_extension": ".py",
   "mimetype": "text/x-python",
   "name": "python",
   "nbconvert_exporter": "python",
   "pygments_lexer": "ipython3",
   "version": "3.10.12"
  }
 },
 "nbformat": 4,
 "nbformat_minor": 2
}
